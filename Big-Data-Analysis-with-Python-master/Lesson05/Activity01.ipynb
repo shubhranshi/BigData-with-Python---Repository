{
  "nbformat": 4,
  "nbformat_minor": 0,
  "metadata": {
    "colab": {
      "name": "5Activity.ipynb",
      "version": "0.3.2",
      "provenance": []
    },
    "kernelspec": {
      "name": "python3",
      "display_name": "Python 3"
    }
  },
  "cells": [
    {
      "cell_type": "code",
      "metadata": {
        "id": "Y-IWQkicJBML",
        "colab_type": "code",
        "outputId": "c27555c3-d97c-4b30-85e6-056ee57b620f",
        "colab": {
          "base_uri": "https://localhost:8080/",
          "height": 71
        }
      },
      "source": [
        "!pip install pyspark"
      ],
      "execution_count": 0,
      "outputs": [
        {
          "output_type": "stream",
          "text": [
            "Requirement already satisfied: pyspark in /usr/local/lib/python3.6/dist-packages (2.4.0)\n",
            "Requirement already satisfied: py4j==0.10.7 in /usr/local/lib/python3.6/dist-packages (from pyspark) (0.10.7)\n"
          ],
          "name": "stdout"
        }
      ]
    },
    {
      "cell_type": "code",
      "metadata": {
        "id": "HuUYUBZOKJmO",
        "colab_type": "code",
        "colab": {}
      },
      "source": [
        "from pyspark import SparkContext\n",
        "sc = SparkContext()\n",
        "from pyspark.sql import SQLContext\n",
        "sqlc = SQLContext(sc)"
      ],
      "execution_count": 0,
      "outputs": []
    },
    {
      "cell_type": "markdown",
      "metadata": {
        "id": "Fh9724PMLRzi",
        "colab_type": "text"
      },
      "source": [
        ""
      ]
    },
    {
      "cell_type": "code",
      "metadata": {
        "id": "YTuBXHztKLlR",
        "colab_type": "code",
        "colab": {}
      },
      "source": [
        "from pyspark import SparkContext\n",
        "sc = SparkContext()"
      ],
      "execution_count": 0,
      "outputs": []
    },
    {
      "cell_type": "code",
      "metadata": {
        "id": "n4uh3owiKOxo",
        "colab_type": "code",
        "colab": {}
      },
      "source": [
        "from pyspark.sql import SQLContext\n",
        "sqlc = SQLContext(sc)"
      ],
      "execution_count": 0,
      "outputs": []
    },
    {
      "cell_type": "code",
      "metadata": {
        "id": "RYAvQpGuKV6j",
        "colab_type": "code",
        "colab": {}
      },
      "source": [
        ""
      ],
      "execution_count": 0,
      "outputs": []
    },
    {
      "cell_type": "code",
      "metadata": {
        "id": "vkQ94MizKb-q",
        "colab_type": "code",
        "outputId": "0919208d-e967-4bee-b010-2347dbb885c1",
        "colab": {
          "base_uri": "https://localhost:8080/",
          "height": 204
        }
      },
      "source": [
        "df = sqlc.read.format('com.databricks.spark.csv').options(header = 'true', inferschema = 'true').load('iris.csv')\n",
        "df.show(5)\n"
      ],
      "execution_count": 0,
      "outputs": [
        {
          "output_type": "stream",
          "text": [
            "+-----------+----------+-----------+----------+-------+\n",
            "|Sepallength|Sepalwidth|Petallength|Petalwidth|Species|\n",
            "+-----------+----------+-----------+----------+-------+\n",
            "|        5.1|       3.5|        1.4|       0.2| setosa|\n",
            "|        4.9|       3.0|        1.4|       0.2| setosa|\n",
            "|        4.7|       3.2|        1.3|       0.2| setosa|\n",
            "|        4.6|       3.1|        1.5|       0.2| setosa|\n",
            "|        5.0|       3.6|        1.4|       0.2| setosa|\n",
            "+-----------+----------+-----------+----------+-------+\n",
            "only showing top 5 rows\n",
            "\n"
          ],
          "name": "stdout"
        }
      ]
    },
    {
      "cell_type": "code",
      "metadata": {
        "id": "ivN5jB6kKkL-",
        "colab_type": "code",
        "colab": {}
      },
      "source": [
        "from pyspark.sql.functions import mean\n",
        "avg_sl = df.select(mean('Sepallength')).toPandas()['avg(Sepallength)']\n"
      ],
      "execution_count": 0,
      "outputs": []
    },
    {
      "cell_type": "code",
      "metadata": {
        "id": "6dPaqDT5Kt-t",
        "colab_type": "code",
        "outputId": "4a87a76b-b7b7-4aad-c3d5-0de36350fcb0",
        "colab": {
          "base_uri": "https://localhost:8080/",
          "height": 136
        }
      },
      "source": [
        "y = df\n",
        "y = y.na.fill(float(avg_sl),['Sepallength'])\n",
        "y.describe().show(1)\n"
      ],
      "execution_count": 0,
      "outputs": [
        {
          "output_type": "stream",
          "text": [
            "+-------+-----------+----------+-----------+----------+-------+\n",
            "|summary|Sepallength|Sepalwidth|Petallength|Petalwidth|Species|\n",
            "+-------+-----------+----------+-----------+----------+-------+\n",
            "|  count|        150|       150|        150|       150|    150|\n",
            "+-------+-----------+----------+-----------+----------+-------+\n",
            "only showing top 1 row\n",
            "\n"
          ],
          "name": "stdout"
        }
      ]
    },
    {
      "cell_type": "code",
      "metadata": {
        "id": "hZ3h4SwmKw5H",
        "colab_type": "code",
        "colab": {}
      },
      "source": [
        "from pyspark.mllib.stat import Statistics\n",
        "import pandas as pd\n"
      ],
      "execution_count": 0,
      "outputs": []
    },
    {
      "cell_type": "code",
      "metadata": {
        "id": "EYhtf-TDK2om",
        "colab_type": "code",
        "colab": {}
      },
      "source": [
        "z = y.fillna(1)"
      ],
      "execution_count": 0,
      "outputs": []
    },
    {
      "cell_type": "code",
      "metadata": {
        "id": "xTEVwpImK4S4",
        "colab_type": "code",
        "colab": {}
      },
      "source": [
        "a = z.drop('Species') \n",
        "features = a.rdd.map(lambda row: row[0:])\n"
      ],
      "execution_count": 0,
      "outputs": []
    },
    {
      "cell_type": "code",
      "metadata": {
        "id": "uHjpSzLhK6Hd",
        "colab_type": "code",
        "colab": {}
      },
      "source": [
        "correlation_matrix = Statistics.corr(features, method=\"pearson\")"
      ],
      "execution_count": 0,
      "outputs": []
    },
    {
      "cell_type": "code",
      "metadata": {
        "id": "90YKC2n5K61I",
        "colab_type": "code",
        "outputId": "fd7c04d5-ea85-4477-adbf-cd104606880e",
        "colab": {
          "base_uri": "https://localhost:8080/",
          "height": 173
        }
      },
      "source": [
        "correlation_df = pd.DataFrame(correlation_matrix)\n",
        "correlation_df.index, correlation_df.columns = a.columns, a.columns\n",
        "correlation_df\n"
      ],
      "execution_count": 0,
      "outputs": [
        {
          "output_type": "execute_result",
          "data": {
            "text/html": [
              "<div>\n",
              "<style scoped>\n",
              "    .dataframe tbody tr th:only-of-type {\n",
              "        vertical-align: middle;\n",
              "    }\n",
              "\n",
              "    .dataframe tbody tr th {\n",
              "        vertical-align: top;\n",
              "    }\n",
              "\n",
              "    .dataframe thead th {\n",
              "        text-align: right;\n",
              "    }\n",
              "</style>\n",
              "<table border=\"1\" class=\"dataframe\">\n",
              "  <thead>\n",
              "    <tr style=\"text-align: right;\">\n",
              "      <th></th>\n",
              "      <th>Sepallength</th>\n",
              "      <th>Sepalwidth</th>\n",
              "      <th>Petallength</th>\n",
              "      <th>Petalwidth</th>\n",
              "    </tr>\n",
              "  </thead>\n",
              "  <tbody>\n",
              "    <tr>\n",
              "      <th>Sepallength</th>\n",
              "      <td>1.000000</td>\n",
              "      <td>-0.109369</td>\n",
              "      <td>0.871754</td>\n",
              "      <td>0.817954</td>\n",
              "    </tr>\n",
              "    <tr>\n",
              "      <th>Sepalwidth</th>\n",
              "      <td>-0.109369</td>\n",
              "      <td>1.000000</td>\n",
              "      <td>-0.420516</td>\n",
              "      <td>-0.356544</td>\n",
              "    </tr>\n",
              "    <tr>\n",
              "      <th>Petallength</th>\n",
              "      <td>0.871754</td>\n",
              "      <td>-0.420516</td>\n",
              "      <td>1.000000</td>\n",
              "      <td>0.962757</td>\n",
              "    </tr>\n",
              "    <tr>\n",
              "      <th>Petalwidth</th>\n",
              "      <td>0.817954</td>\n",
              "      <td>-0.356544</td>\n",
              "      <td>0.962757</td>\n",
              "      <td>1.000000</td>\n",
              "    </tr>\n",
              "  </tbody>\n",
              "</table>\n",
              "</div>"
            ],
            "text/plain": [
              "             Sepallength  Sepalwidth  Petallength  Petalwidth\n",
              "Sepallength     1.000000   -0.109369     0.871754    0.817954\n",
              "Sepalwidth     -0.109369    1.000000    -0.420516   -0.356544\n",
              "Petallength     0.871754   -0.420516     1.000000    0.962757\n",
              "Petalwidth      0.817954   -0.356544     0.962757    1.000000"
            ]
          },
          "metadata": {
            "tags": []
          },
          "execution_count": 14
        }
      ]
    },
    {
      "cell_type": "code",
      "metadata": {
        "id": "u6lph3zyK8wZ",
        "colab_type": "code",
        "outputId": "8b987d54-97cc-4d61-cca5-9968fbbc020d",
        "colab": {
          "base_uri": "https://localhost:8080/",
          "height": 34
        }
      },
      "source": [
        "import pandas as pd\n",
        "dat = y.toPandas()\n",
        "type(dat)\n"
      ],
      "execution_count": 0,
      "outputs": [
        {
          "output_type": "execute_result",
          "data": {
            "text/plain": [
              "pandas.core.frame.DataFrame"
            ]
          },
          "metadata": {
            "tags": []
          },
          "execution_count": 15
        }
      ]
    },
    {
      "cell_type": "code",
      "metadata": {
        "id": "Wgsl7lqvK-y_",
        "colab_type": "code",
        "outputId": "fc9658c0-cbb9-4e37-cd2f-26b529a82c00",
        "colab": {
          "base_uri": "https://localhost:8080/",
          "height": 369
        }
      },
      "source": [
        "import matplotlib.pyplot as plt\n",
        "import seaborn as sns\n",
        "%matplotlib inline\n",
        "sns.lmplot(x = \"Sepallength\", y = \"Petallength\", data = dat)\n",
        "plt.show()\n"
      ],
      "execution_count": 0,
      "outputs": [
        {
          "output_type": "display_data",
          "data": {
            "image/png": "[encoded data removed]",
            "text/plain": [
              "<Figure size 360x360 with 1 Axes>"
            ]
          },
          "metadata": {
            "tags": []
          }
        }
      ]
    },
    {
      "cell_type": "code",
      "metadata": {
        "id": "I9llgXa5LB3Y",
        "colab_type": "code",
        "outputId": "192b63b3-db45-4b3d-b880-8adf67cc5dbf",
        "colab": {
          "base_uri": "https://localhost:8080/",
          "height": 369
        }
      },
      "source": [
        "import seaborn as sns\n",
        "sns.lmplot(x = \"Sepallength\", y = \"Petalwidth\", data = dat)\n",
        "plt.show()\n"
      ],
      "execution_count": 0,
      "outputs": [
        {
          "output_type": "display_data",
          "data": {
            "image/png": "[encoded data removed]",
            "text/plain": [
              "<Figure size 360x360 with 1 Axes>"
            ]
          },
          "metadata": {
            "tags": []
          }
        }
      ]
    },
    {
      "cell_type": "code",
      "metadata": {
        "id": "-0P4bwUoLDWh",
        "colab_type": "code",
        "outputId": "85034f66-1b36-4903-e097-a7075bb34eb8",
        "colab": {
          "base_uri": "https://localhost:8080/",
          "height": 369
        }
      },
      "source": [
        "sns.lmplot(x = \"Petallength\", y = \"Petalwidth\", data = dat)\n",
        "plt.show()\n"
      ],
      "execution_count": 0,
      "outputs": [
        {
          "output_type": "display_data",
          "data": {
            "image/png": "[encoded data removed]",
            "text/plain": [
              "<Figure size 360x360 with 1 Axes>"
            ]
          },
          "metadata": {
            "tags": []
          }
        }
      ]
    }
  ]
}