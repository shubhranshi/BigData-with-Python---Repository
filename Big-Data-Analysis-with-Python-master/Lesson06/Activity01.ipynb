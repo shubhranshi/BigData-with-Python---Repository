{
  "nbformat": 4,
  "nbformat_minor": 0,
  "metadata": {
    "colab": {
      "name": "Activity01.ipynb",
      "version": "0.3.2",
      "provenance": [],
      "collapsed_sections": []
    },
    "kernelspec": {
      "name": "python3",
      "display_name": "Python 3"
    }
  },
  "cells": [
    {
      "cell_type": "markdown",
      "metadata": {
        "id": "v9JKxy4-Euh6",
        "colab_type": "text"
      },
      "source": [
        "## Activity 1: Carry Out Mapping to Gaussian Distribution of Numeric Features from the Given Data"
      ]
    },
    {
      "cell_type": "code",
      "metadata": {
        "id": "yHf8EObtM3BG",
        "colab_type": "code",
        "colab": {}
      },
      "source": [
        "import numpy as np\n",
        "import pandas as pd\n",
        "import seaborn as sns\n",
        "import time\n",
        "import re\n",
        "import os\n",
        "import matplotlib.pyplot as plt\n",
        "sns.set(style=\"ticks\")\n",
        "\n",
        "import sklearn as sk\n",
        "from scipy import stats\n",
        "from sklearn import preprocessing\n",
        "\n",
        "\n",
        "# read the downloaded input data (marketing data)\n",
        "df = pd.read_csv('https://raw.githubusercontent.com/TrainingByPackt/Big-Data-Analysis-with-Python/master/Lesson07/Dataset/bank.csv', sep=';')\n"
      ],
      "execution_count": 0,
      "outputs": []
    },
    {
      "cell_type": "code",
      "metadata": {
        "id": "VebD6u7_OloE",
        "colab_type": "code",
        "outputId": "4fec310f-617c-44f0-a658-a63ddf328c2e",
        "colab": {
          "base_uri": "https://localhost:8080/",
          "height": 204
        }
      },
      "source": [
        "numeric_df = df._get_numeric_data()\n",
        "numeric_df.head()\n"
      ],
      "execution_count": 5,
      "outputs": [
        {
          "output_type": "execute_result",
          "data": {
            "text/html": [
              "<div>\n",
              "<style scoped>\n",
              "    .dataframe tbody tr th:only-of-type {\n",
              "        vertical-align: middle;\n",
              "    }\n",
              "\n",
              "    .dataframe tbody tr th {\n",
              "        vertical-align: top;\n",
              "    }\n",
              "\n",
              "    .dataframe thead th {\n",
              "        text-align: right;\n",
              "    }\n",
              "</style>\n",
              "<table border=\"1\" class=\"dataframe\">\n",
              "  <thead>\n",
              "    <tr style=\"text-align: right;\">\n",
              "      <th></th>\n",
              "      <th>age</th>\n",
              "      <th>balance</th>\n",
              "      <th>day</th>\n",
              "      <th>duration</th>\n",
              "      <th>campaign</th>\n",
              "      <th>pdays</th>\n",
              "      <th>previous</th>\n",
              "    </tr>\n",
              "  </thead>\n",
              "  <tbody>\n",
              "    <tr>\n",
              "      <th>0</th>\n",
              "      <td>30</td>\n",
              "      <td>1787</td>\n",
              "      <td>19</td>\n",
              "      <td>79</td>\n",
              "      <td>1</td>\n",
              "      <td>-1</td>\n",
              "      <td>0</td>\n",
              "    </tr>\n",
              "    <tr>\n",
              "      <th>1</th>\n",
              "      <td>33</td>\n",
              "      <td>4789</td>\n",
              "      <td>11</td>\n",
              "      <td>220</td>\n",
              "      <td>1</td>\n",
              "      <td>339</td>\n",
              "      <td>4</td>\n",
              "    </tr>\n",
              "    <tr>\n",
              "      <th>2</th>\n",
              "      <td>35</td>\n",
              "      <td>1350</td>\n",
              "      <td>16</td>\n",
              "      <td>185</td>\n",
              "      <td>1</td>\n",
              "      <td>330</td>\n",
              "      <td>1</td>\n",
              "    </tr>\n",
              "    <tr>\n",
              "      <th>3</th>\n",
              "      <td>30</td>\n",
              "      <td>1476</td>\n",
              "      <td>3</td>\n",
              "      <td>199</td>\n",
              "      <td>4</td>\n",
              "      <td>-1</td>\n",
              "      <td>0</td>\n",
              "    </tr>\n",
              "    <tr>\n",
              "      <th>4</th>\n",
              "      <td>59</td>\n",
              "      <td>0</td>\n",
              "      <td>5</td>\n",
              "      <td>226</td>\n",
              "      <td>1</td>\n",
              "      <td>-1</td>\n",
              "      <td>0</td>\n",
              "    </tr>\n",
              "  </tbody>\n",
              "</table>\n",
              "</div>"
            ],
            "text/plain": [
              "   age  balance  day  duration  campaign  pdays  previous\n",
              "0   30     1787   19        79         1     -1         0\n",
              "1   33     4789   11       220         1    339         4\n",
              "2   35     1350   16       185         1    330         1\n",
              "3   30     1476    3       199         4     -1         0\n",
              "4   59        0    5       226         1     -1         0"
            ]
          },
          "metadata": {
            "tags": []
          },
          "execution_count": 5
        }
      ]
    },
    {
      "cell_type": "code",
      "metadata": {
        "id": "o2WV5TVaOpCt",
        "colab_type": "code",
        "outputId": "57230895-fc6d-4689-d4c8-f906ba8a476c",
        "colab": {
          "base_uri": "https://localhost:8080/",
          "height": 255
        }
      },
      "source": [
        "numeric_df_array = np.array(numeric_df) # converting to numpy arrays for more efficient computation\n",
        "\n",
        "loop_c = -1\n",
        "col_for_normalization = list()\n",
        "\n",
        "for column in numeric_df_array.T:\n",
        "    loop_c+=1\n",
        "    x = column\n",
        "    k2, p = stats.normaltest(x) \n",
        "    alpha = 0.001\n",
        "    print(\"p = {:g}\".format(p))\n",
        "        \n",
        "    # rules for printing the normality output\n",
        "    if p < alpha:\n",
        "        test_result = \"non_normal_distr\"\n",
        "        col_for_normalization.append((loop_c)) # applicable if yeo-johnson is used\n",
        "        \n",
        "        #if min(x) > 0: # applicable if box-cox is used\n",
        "            #col_for_normalization.append((loop_c)) # applicable if box-cox is used\n",
        "        print(\"The null hypothesis can be rejected: non-normal distribution\")\n",
        "        \n",
        "    else:\n",
        "        test_result = \"normal_distr\"\n",
        "        print(\"The null hypothesis cannot be rejected: normal distribution\")\n"
      ],
      "execution_count": 6,
      "outputs": [
        {
          "output_type": "stream",
          "text": [
            "p = 1.98749e-70\n",
            "The null hypothesis can be rejected: non-normal distribution\n",
            "p = 0\n",
            "The null hypothesis can be rejected: non-normal distribution\n",
            "p = 3.08647e-278\n",
            "The null hypothesis can be rejected: non-normal distribution\n",
            "p = 0\n",
            "The null hypothesis can be rejected: non-normal distribution\n",
            "p = 0\n",
            "The null hypothesis can be rejected: non-normal distribution\n",
            "p = 0\n",
            "The null hypothesis can be rejected: non-normal distribution\n",
            "p = 0\n",
            "The null hypothesis can be rejected: non-normal distribution\n"
          ],
          "name": "stdout"
        }
      ]
    },
    {
      "cell_type": "code",
      "metadata": {
        "id": "k5oOgytKOrrL",
        "colab_type": "code",
        "outputId": "513a341c-ea46-4008-c061-4a6089485e04",
        "colab": {
          "base_uri": "https://localhost:8080/",
          "height": 291
        }
      },
      "source": [
        "columns_to_normalize = numeric_df[numeric_df.columns[col_for_normalization]]\n",
        "names_col = list(columns_to_normalize)\n",
        "\n",
        "# density plots of the features to check the normality\n",
        "columns_to_normalize.plot.kde(bw_method=3)\n"
      ],
      "execution_count": 7,
      "outputs": [
        {
          "output_type": "execute_result",
          "data": {
            "text/plain": [
              "<matplotlib.axes._subplots.AxesSubplot at 0x7f7fbd721908>"
            ]
          },
          "metadata": {
            "tags": []
          },
          "execution_count": 7
        },
        {
          "output_type": "display_data",
          "data": {
            "image/png": "[encoded data removed]",
            "text/plain": [
              "<Figure size 432x288 with 1 Axes>"
            ]
          },
          "metadata": {
            "tags": []
          }
        }
      ]
    },
    {
      "cell_type": "code",
      "metadata": {
        "id": "b7SWjx49O1o6",
        "colab_type": "code",
        "colab": {}
      },
      "source": [
        "pt = preprocessing.PowerTransformer(method='yeo-johnson', standardize=True, copy=True)\n",
        "normalized_columns = pt.fit_transform(columns_to_normalize)\n",
        "normalized_columns = pd.DataFrame(normalized_columns, columns=names_col)\n"
      ],
      "execution_count": 0,
      "outputs": []
    },
    {
      "cell_type": "code",
      "metadata": {
        "id": "_DN7iTVDO4ve",
        "colab_type": "code",
        "outputId": "31754b55-38a4-44f8-942a-62e56242db64",
        "colab": {
          "base_uri": "https://localhost:8080/",
          "height": 291
        }
      },
      "source": [
        "normalized_columns.plot.kde(bw_method=3)"
      ],
      "execution_count": 9,
      "outputs": [
        {
          "output_type": "execute_result",
          "data": {
            "text/plain": [
              "<matplotlib.axes._subplots.AxesSubplot at 0x7f7fbd721be0>"
            ]
          },
          "metadata": {
            "tags": []
          },
          "execution_count": 9
        },
        {
          "output_type": "display_data",
          "data": {
            "image/png": "[encoded data removed]",
            "text/plain": [
              "<Figure size 432x288 with 1 Axes>"
            ]
          },
          "metadata": {
            "tags": []
          }
        }
      ]
    }
  ]
}