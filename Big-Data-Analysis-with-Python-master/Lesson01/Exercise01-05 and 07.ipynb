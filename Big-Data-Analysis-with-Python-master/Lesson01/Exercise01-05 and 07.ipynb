{
  "nbformat": 4,
  "nbformat_minor": 0,
  "metadata": {
    "colab": {
      "name": "Exercise_1_7.ipynb",
      "version": "0.3.2",
      "provenance": []
    },
    "language_info": {
      "codemirror_mode": {
        "name": "ipython",
        "version": 3
      },
      "file_extension": ".py",
      "mimetype": "text/x-python",
      "name": "python",
      "nbconvert_exporter": "python",
      "pygments_lexer": "ipython3",
      "version": "3.7.0"
    },
    "kernelspec": {
      "display_name": "Python 3",
      "language": "python",
      "name": "python3"
    }
  },
  "cells": [
    {
      "cell_type": "code",
      "metadata": {
        "id": "wNEBITtAnISL",
        "colab_type": "code",
        "outputId": "c50f837e-eb85-45a7-ed63-1ec026c21c8d",
        "colab": {
          "base_uri": "https://localhost:8080/",
          "height": 68
        }
      },
      "source": [
        "pip install pyarrow"
      ],
      "execution_count": 2,
      "outputs": [
        {
          "output_type": "stream",
          "text": [
            "Requirement already satisfied: pyarrow in /usr/local/lib/python3.6/dist-packages (0.13.0)\n",
            "Requirement already satisfied: six>=1.0.0 in /usr/local/lib/python3.6/dist-packages (from pyarrow) (1.12.0)\n",
            "Requirement already satisfied: numpy>=1.14 in /usr/local/lib/python3.6/dist-packages (from pyarrow) (1.16.3)\n"
          ],
          "name": "stdout"
        }
      ]
    },
    {
      "cell_type": "markdown",
      "metadata": {
        "id": "V1mmoA8Snexc",
        "colab_type": "text"
      },
      "source": [
        "## Exercise 1: Interacting with the Python Shell Using the IPython Commands"
      ]
    },
    {
      "cell_type": "code",
      "metadata": {
        "id": "RITTl1yKRMQu",
        "colab_type": "code",
        "outputId": "3842081d-dc60-4f01-88d2-ad051ec6fe79",
        "colab": {
          "base_uri": "https://localhost:8080/",
          "height": 34
        }
      },
      "source": [
        "import numpy as np\n",
        "vec = np.random.randint(0, 100, size=5)\n",
        "print(vec)\n"
      ],
      "execution_count": 3,
      "outputs": [
        {
          "output_type": "stream",
          "text": [
            "[79 47 38  2 53]\n"
          ],
          "name": "stdout"
        }
      ]
    },
    {
      "cell_type": "code",
      "metadata": {
        "id": "omHChmR5RMQ0",
        "colab_type": "code",
        "colab": {}
      },
      "source": [
        "for j in np.arange(1, vec.size):\n",
        "    v = vec[j]\n",
        "    i = j\n",
        "    while i > 0 and vec[i-1] > v:\n",
        "        vec[i] = vec[i-1]\n",
        "        i = i - 1\n",
        "    vec[i] = v\n"
      ],
      "execution_count": 0,
      "outputs": []
    },
    {
      "cell_type": "markdown",
      "metadata": {
        "id": "-0E0Ad67RMQ2",
        "colab_type": "text"
      },
      "source": [
        "## Exercise 2: Getting Started with the Jupyter Notebook"
      ]
    },
    {
      "cell_type": "code",
      "metadata": {
        "id": "APdnuBdsRMQ3",
        "colab_type": "code",
        "outputId": "be7c25d5-20c5-4fb0-c697-654883c3d422",
        "colab": {
          "base_uri": "https://localhost:8080/",
          "height": 34
        }
      },
      "source": [
        "x = 2\n",
        "print(x*2)\n"
      ],
      "execution_count": 5,
      "outputs": [
        {
          "output_type": "stream",
          "text": [
            "4\n"
          ],
          "name": "stdout"
        }
      ]
    },
    {
      "cell_type": "code",
      "metadata": {
        "id": "dccIz_V2RMQ7",
        "colab_type": "code",
        "colab": {}
      },
      "source": [
        "def mean(a,b):\n",
        "       return (a+b)/2\n"
      ],
      "execution_count": 0,
      "outputs": []
    },
    {
      "cell_type": "code",
      "metadata": {
        "id": "We_aG-JYRMQ9",
        "colab_type": "code",
        "outputId": "65996f1c-e98f-44da-bae1-004a0033080b",
        "colab": {
          "base_uri": "https://localhost:8080/",
          "height": 34
        }
      },
      "source": [
        "mean(10,20)"
      ],
      "execution_count": 7,
      "outputs": [
        {
          "output_type": "execute_result",
          "data": {
            "text/plain": [
              "15.0"
            ]
          },
          "metadata": {
            "tags": []
          },
          "execution_count": 7
        }
      ]
    },
    {
      "cell_type": "markdown",
      "metadata": {
        "id": "yfwiftRJohgx",
        "colab_type": "text"
      },
      "source": [
        "## Exercise 3: Reading Data with Pandas"
      ]
    },
    {
      "cell_type": "code",
      "metadata": {
        "id": "RjUT4T_ARMRB",
        "colab_type": "code",
        "outputId": "030a2903-4e9a-4388-ce80-ad962377f904",
        "colab": {
          "base_uri": "https://localhost:8080/",
          "height": 233
        }
      },
      "source": [
        "import pandas as pd\n",
        "df = pd.read_csv(\"https://raw.githubusercontent.com/TrainingByPackt/Big-Data-Analysis-with-Python/master/Lesson01/imports-85.csv\")\n",
        "df.head()\n"
      ],
      "execution_count": 8,
      "outputs": [
        {
          "output_type": "execute_result",
          "data": {
            "text/html": [
              "<div>\n",
              "<style scoped>\n",
              "    .dataframe tbody tr th:only-of-type {\n",
              "        vertical-align: middle;\n",
              "    }\n",
              "\n",
              "    .dataframe tbody tr th {\n",
              "        vertical-align: top;\n",
              "    }\n",
              "\n",
              "    .dataframe thead th {\n",
              "        text-align: right;\n",
              "    }\n",
              "</style>\n",
              "<table border=\"1\" class=\"dataframe\">\n",
              "  <thead>\n",
              "    <tr style=\"text-align: right;\">\n",
              "      <th></th>\n",
              "      <th>3</th>\n",
              "      <th>?</th>\n",
              "      <th>alfa-romero</th>\n",
              "      <th>gas</th>\n",
              "      <th>std</th>\n",
              "      <th>two</th>\n",
              "      <th>convertible</th>\n",
              "      <th>rwd</th>\n",
              "      <th>front</th>\n",
              "      <th>88.60</th>\n",
              "      <th>...</th>\n",
              "      <th>130</th>\n",
              "      <th>mpfi</th>\n",
              "      <th>3.47</th>\n",
              "      <th>2.68</th>\n",
              "      <th>9.00</th>\n",
              "      <th>111</th>\n",
              "      <th>5000</th>\n",
              "      <th>21</th>\n",
              "      <th>27</th>\n",
              "      <th>13495</th>\n",
              "    </tr>\n",
              "  </thead>\n",
              "  <tbody>\n",
              "    <tr>\n",
              "      <th>0</th>\n",
              "      <td>3</td>\n",
              "      <td>?</td>\n",
              "      <td>alfa-romero</td>\n",
              "      <td>gas</td>\n",
              "      <td>std</td>\n",
              "      <td>two</td>\n",
              "      <td>convertible</td>\n",
              "      <td>rwd</td>\n",
              "      <td>front</td>\n",
              "      <td>88.6</td>\n",
              "      <td>...</td>\n",
              "      <td>130</td>\n",
              "      <td>mpfi</td>\n",
              "      <td>3.47</td>\n",
              "      <td>2.68</td>\n",
              "      <td>9.0</td>\n",
              "      <td>111</td>\n",
              "      <td>5000</td>\n",
              "      <td>21</td>\n",
              "      <td>27</td>\n",
              "      <td>16500</td>\n",
              "    </tr>\n",
              "    <tr>\n",
              "      <th>1</th>\n",
              "      <td>1</td>\n",
              "      <td>?</td>\n",
              "      <td>alfa-romero</td>\n",
              "      <td>gas</td>\n",
              "      <td>std</td>\n",
              "      <td>two</td>\n",
              "      <td>hatchback</td>\n",
              "      <td>rwd</td>\n",
              "      <td>front</td>\n",
              "      <td>94.5</td>\n",
              "      <td>...</td>\n",
              "      <td>152</td>\n",
              "      <td>mpfi</td>\n",
              "      <td>2.68</td>\n",
              "      <td>3.47</td>\n",
              "      <td>9.0</td>\n",
              "      <td>154</td>\n",
              "      <td>5000</td>\n",
              "      <td>19</td>\n",
              "      <td>26</td>\n",
              "      <td>16500</td>\n",
              "    </tr>\n",
              "    <tr>\n",
              "      <th>2</th>\n",
              "      <td>2</td>\n",
              "      <td>164</td>\n",
              "      <td>audi</td>\n",
              "      <td>gas</td>\n",
              "      <td>std</td>\n",
              "      <td>four</td>\n",
              "      <td>sedan</td>\n",
              "      <td>fwd</td>\n",
              "      <td>front</td>\n",
              "      <td>99.8</td>\n",
              "      <td>...</td>\n",
              "      <td>109</td>\n",
              "      <td>mpfi</td>\n",
              "      <td>3.19</td>\n",
              "      <td>3.40</td>\n",
              "      <td>10.0</td>\n",
              "      <td>102</td>\n",
              "      <td>5500</td>\n",
              "      <td>24</td>\n",
              "      <td>30</td>\n",
              "      <td>13950</td>\n",
              "    </tr>\n",
              "    <tr>\n",
              "      <th>3</th>\n",
              "      <td>2</td>\n",
              "      <td>164</td>\n",
              "      <td>audi</td>\n",
              "      <td>gas</td>\n",
              "      <td>std</td>\n",
              "      <td>four</td>\n",
              "      <td>sedan</td>\n",
              "      <td>4wd</td>\n",
              "      <td>front</td>\n",
              "      <td>99.4</td>\n",
              "      <td>...</td>\n",
              "      <td>136</td>\n",
              "      <td>mpfi</td>\n",
              "      <td>3.19</td>\n",
              "      <td>3.40</td>\n",
              "      <td>8.0</td>\n",
              "      <td>115</td>\n",
              "      <td>5500</td>\n",
              "      <td>18</td>\n",
              "      <td>22</td>\n",
              "      <td>17450</td>\n",
              "    </tr>\n",
              "    <tr>\n",
              "      <th>4</th>\n",
              "      <td>2</td>\n",
              "      <td>?</td>\n",
              "      <td>audi</td>\n",
              "      <td>gas</td>\n",
              "      <td>std</td>\n",
              "      <td>two</td>\n",
              "      <td>sedan</td>\n",
              "      <td>fwd</td>\n",
              "      <td>front</td>\n",
              "      <td>99.8</td>\n",
              "      <td>...</td>\n",
              "      <td>136</td>\n",
              "      <td>mpfi</td>\n",
              "      <td>3.19</td>\n",
              "      <td>3.40</td>\n",
              "      <td>8.5</td>\n",
              "      <td>110</td>\n",
              "      <td>5500</td>\n",
              "      <td>19</td>\n",
              "      <td>25</td>\n",
              "      <td>15250</td>\n",
              "    </tr>\n",
              "  </tbody>\n",
              "</table>\n",
              "<p>5 rows × 26 columns</p>\n",
              "</div>"
            ],
            "text/plain": [
              "   3    ?  alfa-romero  gas  std   two  convertible  rwd  front  88.60  ...  \\\n",
              "0  3    ?  alfa-romero  gas  std   two  convertible  rwd  front   88.6  ...   \n",
              "1  1    ?  alfa-romero  gas  std   two    hatchback  rwd  front   94.5  ...   \n",
              "2  2  164         audi  gas  std  four        sedan  fwd  front   99.8  ...   \n",
              "3  2  164         audi  gas  std  four        sedan  4wd  front   99.4  ...   \n",
              "4  2    ?         audi  gas  std   two        sedan  fwd  front   99.8  ...   \n",
              "\n",
              "   130  mpfi  3.47  2.68  9.00  111  5000  21  27  13495  \n",
              "0  130  mpfi  3.47  2.68   9.0  111  5000  21  27  16500  \n",
              "1  152  mpfi  2.68  3.47   9.0  154  5000  19  26  16500  \n",
              "2  109  mpfi  3.19  3.40  10.0  102  5500  24  30  13950  \n",
              "3  136  mpfi  3.19  3.40   8.0  115  5500  18  22  17450  \n",
              "4  136  mpfi  3.19  3.40   8.5  110  5500  19  25  15250  \n",
              "\n",
              "[5 rows x 26 columns]"
            ]
          },
          "metadata": {
            "tags": []
          },
          "execution_count": 8
        }
      ]
    },
    {
      "cell_type": "markdown",
      "metadata": {
        "id": "er4qtAK3RMRE",
        "colab_type": "text"
      },
      "source": [
        "## Exercise 4: Data Selection and the .loc Method"
      ]
    },
    {
      "cell_type": "code",
      "metadata": {
        "id": "gtqVFzNORMRE",
        "colab_type": "code",
        "colab": {}
      },
      "source": [
        "import numpy as np\n",
        "import pandas as pd\n"
      ],
      "execution_count": 0,
      "outputs": []
    },
    {
      "cell_type": "code",
      "metadata": {
        "id": "fQCICJLuRMRH",
        "colab_type": "code",
        "colab": {}
      },
      "source": [
        "url = \"https://raw.githubusercontent.com/TrainingByPackt/Big-Data-Analysis-with-Python/master/Lesson01/RadNet_Laboratory_Analysis.csv\"\n",
        "df = pd.read_csv(url)\n"
      ],
      "execution_count": 0,
      "outputs": []
    },
    {
      "cell_type": "code",
      "metadata": {
        "id": "gZ7eqz4ORMRJ",
        "colab_type": "code",
        "outputId": "0a9db5c5-f09c-4c88-affc-afc91c044274",
        "colab": {
          "base_uri": "https://localhost:8080/",
          "height": 119
        }
      },
      "source": [
        "df['State'].head()"
      ],
      "execution_count": 11,
      "outputs": [
        {
          "output_type": "execute_result",
          "data": {
            "text/plain": [
              "0    ID\n",
              "1    ID\n",
              "2    AK\n",
              "3    AK\n",
              "4    AK\n",
              "Name: State, dtype: object"
            ]
          },
          "metadata": {
            "tags": []
          },
          "execution_count": 11
        }
      ]
    },
    {
      "cell_type": "code",
      "metadata": {
        "id": "pGLmBRi5RMRN",
        "colab_type": "code",
        "outputId": "87617f97-8e4c-4607-de3a-4e57fc8c6456",
        "colab": {
          "base_uri": "https://localhost:8080/",
          "height": 297
        }
      },
      "source": [
        "df[df.State == \"MN\"]"
      ],
      "execution_count": 12,
      "outputs": [
        {
          "output_type": "execute_result",
          "data": {
            "text/html": [
              "<div>\n",
              "<style scoped>\n",
              "    .dataframe tbody tr th:only-of-type {\n",
              "        vertical-align: middle;\n",
              "    }\n",
              "\n",
              "    .dataframe tbody tr th {\n",
              "        vertical-align: top;\n",
              "    }\n",
              "\n",
              "    .dataframe thead th {\n",
              "        text-align: right;\n",
              "    }\n",
              "</style>\n",
              "<table border=\"1\" class=\"dataframe\">\n",
              "  <thead>\n",
              "    <tr style=\"text-align: right;\">\n",
              "      <th></th>\n",
              "      <th>State</th>\n",
              "      <th>Location</th>\n",
              "      <th>Date Posted</th>\n",
              "      <th>Date Collected</th>\n",
              "      <th>Sample Type</th>\n",
              "      <th>Unit</th>\n",
              "      <th>Ba-140</th>\n",
              "      <th>Co-60</th>\n",
              "      <th>Cs-134</th>\n",
              "      <th>Cs-136</th>\n",
              "      <th>Cs-137</th>\n",
              "      <th>I-131</th>\n",
              "      <th>I-132</th>\n",
              "      <th>I-133</th>\n",
              "      <th>Te-129</th>\n",
              "      <th>Te-129m</th>\n",
              "      <th>Te-132</th>\n",
              "      <th>Ba-140.1</th>\n",
              "    </tr>\n",
              "  </thead>\n",
              "  <tbody>\n",
              "    <tr>\n",
              "      <th>367</th>\n",
              "      <td>MN</td>\n",
              "      <td>St. Paul</td>\n",
              "      <td>04-08-2011</td>\n",
              "      <td>03/28/2011</td>\n",
              "      <td>Drinking Water</td>\n",
              "      <td>pCi/l</td>\n",
              "      <td>0.0</td>\n",
              "      <td>0.0</td>\n",
              "      <td>0</td>\n",
              "      <td>0.0</td>\n",
              "      <td>0</td>\n",
              "      <td>0</td>\n",
              "      <td>0</td>\n",
              "      <td>0.0</td>\n",
              "      <td>0.0</td>\n",
              "      <td>0.0</td>\n",
              "      <td>0</td>\n",
              "      <td>NaN</td>\n",
              "    </tr>\n",
              "    <tr>\n",
              "      <th>368</th>\n",
              "      <td>MN</td>\n",
              "      <td>St. Paul</td>\n",
              "      <td>04/22/2011</td>\n",
              "      <td>04/13/2011</td>\n",
              "      <td>Drinking Water</td>\n",
              "      <td>pCi/l</td>\n",
              "      <td>0.0</td>\n",
              "      <td>0.0</td>\n",
              "      <td>0</td>\n",
              "      <td>0.0</td>\n",
              "      <td>0</td>\n",
              "      <td>0</td>\n",
              "      <td>0</td>\n",
              "      <td>0.0</td>\n",
              "      <td>0.0</td>\n",
              "      <td>0.0</td>\n",
              "      <td>0</td>\n",
              "      <td>NaN</td>\n",
              "    </tr>\n",
              "    <tr>\n",
              "      <th>380</th>\n",
              "      <td>MN</td>\n",
              "      <td>Welch</td>\n",
              "      <td>04-08-2011</td>\n",
              "      <td>03/29/2011</td>\n",
              "      <td>Drinking Water</td>\n",
              "      <td>pCi/l</td>\n",
              "      <td>0.0</td>\n",
              "      <td>0.0</td>\n",
              "      <td>0</td>\n",
              "      <td>0.0</td>\n",
              "      <td>0</td>\n",
              "      <td>0</td>\n",
              "      <td>0</td>\n",
              "      <td>0.0</td>\n",
              "      <td>0.0</td>\n",
              "      <td>0.0</td>\n",
              "      <td>0</td>\n",
              "      <td>NaN</td>\n",
              "    </tr>\n",
              "    <tr>\n",
              "      <th>381</th>\n",
              "      <td>MN</td>\n",
              "      <td>Welch</td>\n",
              "      <td>06-01-2011</td>\n",
              "      <td>04/14/2011</td>\n",
              "      <td>Drinking Water</td>\n",
              "      <td>pCi/l</td>\n",
              "      <td>0.0</td>\n",
              "      <td>0.0</td>\n",
              "      <td>0</td>\n",
              "      <td>0.0</td>\n",
              "      <td>0</td>\n",
              "      <td>0</td>\n",
              "      <td>0</td>\n",
              "      <td>0.0</td>\n",
              "      <td>0.0</td>\n",
              "      <td>0.0</td>\n",
              "      <td>0</td>\n",
              "      <td>NaN</td>\n",
              "    </tr>\n",
              "    <tr>\n",
              "      <th>555</th>\n",
              "      <td>MN</td>\n",
              "      <td>St. Paul</td>\n",
              "      <td>04-04-2011</td>\n",
              "      <td>03/22/2011</td>\n",
              "      <td>Precipitation</td>\n",
              "      <td>pCi/l</td>\n",
              "      <td>0.0</td>\n",
              "      <td>0.0</td>\n",
              "      <td>0</td>\n",
              "      <td>NaN</td>\n",
              "      <td>0</td>\n",
              "      <td>32</td>\n",
              "      <td>0</td>\n",
              "      <td>0.0</td>\n",
              "      <td>NaN</td>\n",
              "      <td>NaN</td>\n",
              "      <td>0</td>\n",
              "      <td>NaN</td>\n",
              "    </tr>\n",
              "    <tr>\n",
              "      <th>556</th>\n",
              "      <td>MN</td>\n",
              "      <td>St. Paul</td>\n",
              "      <td>04-10-2011</td>\n",
              "      <td>03/29/2011</td>\n",
              "      <td>Precipitation</td>\n",
              "      <td>pCi/l</td>\n",
              "      <td>0.0</td>\n",
              "      <td>0.0</td>\n",
              "      <td>0</td>\n",
              "      <td>0.0</td>\n",
              "      <td>0</td>\n",
              "      <td>16</td>\n",
              "      <td>0</td>\n",
              "      <td>0.0</td>\n",
              "      <td>0.0</td>\n",
              "      <td>0.0</td>\n",
              "      <td>0</td>\n",
              "      <td>NaN</td>\n",
              "    </tr>\n",
              "    <tr>\n",
              "      <th>557</th>\n",
              "      <td>MN</td>\n",
              "      <td>Welch</td>\n",
              "      <td>04-04-2011</td>\n",
              "      <td>03/17/2011</td>\n",
              "      <td>Precipitation</td>\n",
              "      <td>pCi/l</td>\n",
              "      <td>0.0</td>\n",
              "      <td>0.0</td>\n",
              "      <td>0</td>\n",
              "      <td>NaN</td>\n",
              "      <td>0</td>\n",
              "      <td>0</td>\n",
              "      <td>0</td>\n",
              "      <td>0.0</td>\n",
              "      <td>NaN</td>\n",
              "      <td>NaN</td>\n",
              "      <td>0</td>\n",
              "      <td>NaN</td>\n",
              "    </tr>\n",
              "    <tr>\n",
              "      <th>558</th>\n",
              "      <td>MN</td>\n",
              "      <td>Welch/510</td>\n",
              "      <td>04/13/2011</td>\n",
              "      <td>04-04-2011</td>\n",
              "      <td>Precipitation</td>\n",
              "      <td>pCi/l</td>\n",
              "      <td>0.0</td>\n",
              "      <td>0.0</td>\n",
              "      <td>0</td>\n",
              "      <td>0.0</td>\n",
              "      <td>0</td>\n",
              "      <td>9</td>\n",
              "      <td>0</td>\n",
              "      <td>0.0</td>\n",
              "      <td>0.0</td>\n",
              "      <td>0.0</td>\n",
              "      <td>0</td>\n",
              "      <td>NaN</td>\n",
              "    </tr>\n",
              "  </tbody>\n",
              "</table>\n",
              "</div>"
            ],
            "text/plain": [
              "    State   Location Date Posted Date Collected     Sample Type   Unit  \\\n",
              "367    MN   St. Paul  04-08-2011     03/28/2011  Drinking Water  pCi/l   \n",
              "368    MN   St. Paul  04/22/2011     04/13/2011  Drinking Water  pCi/l   \n",
              "380    MN      Welch  04-08-2011     03/29/2011  Drinking Water  pCi/l   \n",
              "381    MN      Welch  06-01-2011     04/14/2011  Drinking Water  pCi/l   \n",
              "555    MN   St. Paul  04-04-2011     03/22/2011   Precipitation  pCi/l   \n",
              "556    MN   St. Paul  04-10-2011     03/29/2011   Precipitation  pCi/l   \n",
              "557    MN      Welch  04-04-2011     03/17/2011   Precipitation  pCi/l   \n",
              "558    MN  Welch/510  04/13/2011     04-04-2011   Precipitation  pCi/l   \n",
              "\n",
              "     Ba-140  Co-60  Cs-134  Cs-136  Cs-137  I-131  I-132  I-133  Te-129  \\\n",
              "367     0.0    0.0       0     0.0       0      0      0    0.0     0.0   \n",
              "368     0.0    0.0       0     0.0       0      0      0    0.0     0.0   \n",
              "380     0.0    0.0       0     0.0       0      0      0    0.0     0.0   \n",
              "381     0.0    0.0       0     0.0       0      0      0    0.0     0.0   \n",
              "555     0.0    0.0       0     NaN       0     32      0    0.0     NaN   \n",
              "556     0.0    0.0       0     0.0       0     16      0    0.0     0.0   \n",
              "557     0.0    0.0       0     NaN       0      0      0    0.0     NaN   \n",
              "558     0.0    0.0       0     0.0       0      9      0    0.0     0.0   \n",
              "\n",
              "     Te-129m  Te-132  Ba-140.1  \n",
              "367      0.0       0       NaN  \n",
              "368      0.0       0       NaN  \n",
              "380      0.0       0       NaN  \n",
              "381      0.0       0       NaN  \n",
              "555      NaN       0       NaN  \n",
              "556      0.0       0       NaN  \n",
              "557      NaN       0       NaN  \n",
              "558      0.0       0       NaN  "
            ]
          },
          "metadata": {
            "tags": []
          },
          "execution_count": 12
        }
      ]
    },
    {
      "cell_type": "code",
      "metadata": {
        "id": "f43sIPd8RMRQ",
        "colab_type": "code",
        "outputId": "b9b4c66c-28dd-456e-e288-521b284c0894",
        "colab": {
          "base_uri": "https://localhost:8080/",
          "height": 173
        }
      },
      "source": [
        "df[(df.State == 'CA') & (df['Sample Type'] == 'Drinking Water')]"
      ],
      "execution_count": 13,
      "outputs": [
        {
          "output_type": "execute_result",
          "data": {
            "text/html": [
              "<div>\n",
              "<style scoped>\n",
              "    .dataframe tbody tr th:only-of-type {\n",
              "        vertical-align: middle;\n",
              "    }\n",
              "\n",
              "    .dataframe tbody tr th {\n",
              "        vertical-align: top;\n",
              "    }\n",
              "\n",
              "    .dataframe thead th {\n",
              "        text-align: right;\n",
              "    }\n",
              "</style>\n",
              "<table border=\"1\" class=\"dataframe\">\n",
              "  <thead>\n",
              "    <tr style=\"text-align: right;\">\n",
              "      <th></th>\n",
              "      <th>State</th>\n",
              "      <th>Location</th>\n",
              "      <th>Date Posted</th>\n",
              "      <th>Date Collected</th>\n",
              "      <th>Sample Type</th>\n",
              "      <th>Unit</th>\n",
              "      <th>Ba-140</th>\n",
              "      <th>Co-60</th>\n",
              "      <th>Cs-134</th>\n",
              "      <th>Cs-136</th>\n",
              "      <th>Cs-137</th>\n",
              "      <th>I-131</th>\n",
              "      <th>I-132</th>\n",
              "      <th>I-133</th>\n",
              "      <th>Te-129</th>\n",
              "      <th>Te-129m</th>\n",
              "      <th>Te-132</th>\n",
              "      <th>Ba-140.1</th>\n",
              "    </tr>\n",
              "  </thead>\n",
              "  <tbody>\n",
              "    <tr>\n",
              "      <th>305</th>\n",
              "      <td>CA</td>\n",
              "      <td>Los Angeles</td>\n",
              "      <td>04-10-2011</td>\n",
              "      <td>04-04-2011</td>\n",
              "      <td>Drinking Water</td>\n",
              "      <td>pCi/l</td>\n",
              "      <td>0.0</td>\n",
              "      <td>0.0</td>\n",
              "      <td>0</td>\n",
              "      <td>0.0</td>\n",
              "      <td>0</td>\n",
              "      <td>0</td>\n",
              "      <td>0</td>\n",
              "      <td>0.0</td>\n",
              "      <td>0.0</td>\n",
              "      <td>0.0</td>\n",
              "      <td>0</td>\n",
              "      <td>NaN</td>\n",
              "    </tr>\n",
              "    <tr>\n",
              "      <th>306</th>\n",
              "      <td>CA</td>\n",
              "      <td>Los Angeles</td>\n",
              "      <td>06-01-2011</td>\n",
              "      <td>04-12-2011</td>\n",
              "      <td>Drinking Water</td>\n",
              "      <td>pCi/l</td>\n",
              "      <td>0.0</td>\n",
              "      <td>0.0</td>\n",
              "      <td>0</td>\n",
              "      <td>0.0</td>\n",
              "      <td>0</td>\n",
              "      <td>0</td>\n",
              "      <td>0</td>\n",
              "      <td>0.0</td>\n",
              "      <td>0.0</td>\n",
              "      <td>0.0</td>\n",
              "      <td>0</td>\n",
              "      <td>NaN</td>\n",
              "    </tr>\n",
              "    <tr>\n",
              "      <th>356</th>\n",
              "      <td>CA</td>\n",
              "      <td>Richmond</td>\n",
              "      <td>04-09-2011</td>\n",
              "      <td>03/29/2011</td>\n",
              "      <td>Drinking Water</td>\n",
              "      <td>pCi/l</td>\n",
              "      <td>0.0</td>\n",
              "      <td>0.0</td>\n",
              "      <td>0</td>\n",
              "      <td>0.0</td>\n",
              "      <td>0</td>\n",
              "      <td>0</td>\n",
              "      <td>0</td>\n",
              "      <td>0.0</td>\n",
              "      <td>0.0</td>\n",
              "      <td>0.0</td>\n",
              "      <td>0</td>\n",
              "      <td>NaN</td>\n",
              "    </tr>\n",
              "    <tr>\n",
              "      <th>357</th>\n",
              "      <td>CA</td>\n",
              "      <td>Richmond</td>\n",
              "      <td>06-01-2011</td>\n",
              "      <td>04/13/2011</td>\n",
              "      <td>Drinking Water</td>\n",
              "      <td>pCi/l</td>\n",
              "      <td>0.0</td>\n",
              "      <td>0.0</td>\n",
              "      <td>0</td>\n",
              "      <td>0.0</td>\n",
              "      <td>0</td>\n",
              "      <td>0</td>\n",
              "      <td>0</td>\n",
              "      <td>0.0</td>\n",
              "      <td>0.0</td>\n",
              "      <td>0.0</td>\n",
              "      <td>0</td>\n",
              "      <td>NaN</td>\n",
              "    </tr>\n",
              "  </tbody>\n",
              "</table>\n",
              "</div>"
            ],
            "text/plain": [
              "    State      Location Date Posted Date Collected     Sample Type   Unit  \\\n",
              "305    CA   Los Angeles  04-10-2011     04-04-2011  Drinking Water  pCi/l   \n",
              "306    CA  Los Angeles   06-01-2011     04-12-2011  Drinking Water  pCi/l   \n",
              "356    CA      Richmond  04-09-2011     03/29/2011  Drinking Water  pCi/l   \n",
              "357    CA      Richmond  06-01-2011     04/13/2011  Drinking Water  pCi/l   \n",
              "\n",
              "     Ba-140  Co-60  Cs-134  Cs-136  Cs-137  I-131  I-132  I-133  Te-129  \\\n",
              "305     0.0    0.0       0     0.0       0      0      0    0.0     0.0   \n",
              "306     0.0    0.0       0     0.0       0      0      0    0.0     0.0   \n",
              "356     0.0    0.0       0     0.0       0      0      0    0.0     0.0   \n",
              "357     0.0    0.0       0     0.0       0      0      0    0.0     0.0   \n",
              "\n",
              "     Te-129m  Te-132  Ba-140.1  \n",
              "305      0.0       0       NaN  \n",
              "306      0.0       0       NaN  \n",
              "356      0.0       0       NaN  \n",
              "357      0.0       0       NaN  "
            ]
          },
          "metadata": {
            "tags": []
          },
          "execution_count": 13
        }
      ]
    },
    {
      "cell_type": "code",
      "metadata": {
        "id": "2SCFISQ7RMRT",
        "colab_type": "code",
        "outputId": "17f0d583-7e4e-4dec-ca27-ccfc41c29f31",
        "colab": {
          "base_uri": "https://localhost:8080/",
          "height": 170
        }
      },
      "source": [
        "df[(df.State == \"MN\") ][\"I-131\"]"
      ],
      "execution_count": 14,
      "outputs": [
        {
          "output_type": "execute_result",
          "data": {
            "text/plain": [
              "367     0\n",
              "368     0\n",
              "380     0\n",
              "381     0\n",
              "555    32\n",
              "556    16\n",
              "557     0\n",
              "558     9\n",
              "Name: I-131, dtype: int64"
            ]
          },
          "metadata": {
            "tags": []
          },
          "execution_count": 14
        }
      ]
    },
    {
      "cell_type": "code",
      "metadata": {
        "id": "NyLbvGT9RMRV",
        "colab_type": "code",
        "outputId": "aa87115c-c500-4081-9a34-c9c9ec4719a6",
        "colab": {
          "base_uri": "https://localhost:8080/",
          "height": 204
        }
      },
      "source": [
        "df.loc[df.State == \"MN\", \"I-131\"]\n",
        "df[['I-132']].head()\n"
      ],
      "execution_count": 35,
      "outputs": [
        {
          "output_type": "execute_result",
          "data": {
            "text/html": [
              "<div>\n",
              "<style scoped>\n",
              "    .dataframe tbody tr th:only-of-type {\n",
              "        vertical-align: middle;\n",
              "    }\n",
              "\n",
              "    .dataframe tbody tr th {\n",
              "        vertical-align: top;\n",
              "    }\n",
              "\n",
              "    .dataframe thead th {\n",
              "        text-align: right;\n",
              "    }\n",
              "</style>\n",
              "<table border=\"1\" class=\"dataframe\">\n",
              "  <thead>\n",
              "    <tr style=\"text-align: right;\">\n",
              "      <th></th>\n",
              "      <th>I-132</th>\n",
              "    </tr>\n",
              "  </thead>\n",
              "  <tbody>\n",
              "    <tr>\n",
              "      <th>0</th>\n",
              "      <td>0</td>\n",
              "    </tr>\n",
              "    <tr>\n",
              "      <th>1</th>\n",
              "      <td>0</td>\n",
              "    </tr>\n",
              "    <tr>\n",
              "      <th>2</th>\n",
              "      <td>0</td>\n",
              "    </tr>\n",
              "    <tr>\n",
              "      <th>3</th>\n",
              "      <td>0</td>\n",
              "    </tr>\n",
              "    <tr>\n",
              "      <th>4</th>\n",
              "      <td>0</td>\n",
              "    </tr>\n",
              "  </tbody>\n",
              "</table>\n",
              "</div>"
            ],
            "text/plain": [
              "   I-132\n",
              "0      0\n",
              "1      0\n",
              "2      0\n",
              "3      0\n",
              "4      0"
            ]
          },
          "metadata": {
            "tags": []
          },
          "execution_count": 35
        }
      ]
    },
    {
      "cell_type": "markdown",
      "metadata": {
        "id": "asGzh2piRMRZ",
        "colab_type": "text"
      },
      "source": [
        "## Exercise 5: Exploring Data Types"
      ]
    },
    {
      "cell_type": "code",
      "metadata": {
        "id": "UVeJW4q1RMRa",
        "colab_type": "code",
        "colab": {}
      },
      "source": [
        "import numpy as np\n",
        "import pandas as pd\n",
        "import matplotlib.pyplot as plt\n",
        "import seaborn as sns\n"
      ],
      "execution_count": 0,
      "outputs": []
    },
    {
      "cell_type": "code",
      "metadata": {
        "id": "2CN5CSH5RMRd",
        "colab_type": "code",
        "colab": {}
      },
      "source": [
        "url = \"https://raw.githubusercontent.com/TrainingByPackt/Big-Data-Analysis-with-Python/master/Lesson01/RadNet_Laboratory_Analysis.csv\"\n",
        "df = pd.read_csv(url)\n"
      ],
      "execution_count": 0,
      "outputs": []
    },
    {
      "cell_type": "code",
      "metadata": {
        "id": "2mnQfvF5RMRg",
        "colab_type": "code",
        "outputId": "aa5127ac-8b76-40f1-8f6c-e3ba593aea58",
        "colab": {
          "base_uri": "https://localhost:8080/",
          "height": 340
        }
      },
      "source": [
        "df.dtypes"
      ],
      "execution_count": 18,
      "outputs": [
        {
          "output_type": "execute_result",
          "data": {
            "text/plain": [
              "State              object\n",
              "Location           object\n",
              "Date Posted        object\n",
              "Date Collected     object\n",
              "Sample Type        object\n",
              "Unit               object\n",
              "Ba-140            float64\n",
              "Co-60             float64\n",
              "Cs-134              int64\n",
              "Cs-136            float64\n",
              "Cs-137              int64\n",
              "I-131               int64\n",
              "I-132               int64\n",
              "I-133             float64\n",
              "Te-129            float64\n",
              "Te-129m           float64\n",
              "Te-132              int64\n",
              "Ba-140.1          float64\n",
              "dtype: object"
            ]
          },
          "metadata": {
            "tags": []
          },
          "execution_count": 18
        }
      ]
    },
    {
      "cell_type": "code",
      "metadata": {
        "id": "x8spXbSTRMRj",
        "colab_type": "code",
        "colab": {}
      },
      "source": [
        "df['Date Posted'] = pd.to_datetime(df['Date Posted'])\n",
        "df['Date Collected'] = pd.to_datetime(df['Date Collected'])\n"
      ],
      "execution_count": 0,
      "outputs": []
    },
    {
      "cell_type": "code",
      "metadata": {
        "id": "PiUDyfkfRMRm",
        "colab_type": "code",
        "outputId": "09d1baeb-b332-45bf-f285-963e5a3ff166",
        "colab": {
          "base_uri": "https://localhost:8080/",
          "height": 221
        }
      },
      "source": [
        "columns = df.columns\n",
        "id_cols = ['State', 'Location', \"Date Posted\", 'Date Collected', 'Sample Type', 'Unit']\n",
        "columns = list(set(columns) - set(id_cols))\n",
        "columns\n"
      ],
      "execution_count": 20,
      "outputs": [
        {
          "output_type": "execute_result",
          "data": {
            "text/plain": [
              "['Cs-136',\n",
              " 'Ba-140',\n",
              " 'Co-60',\n",
              " 'Cs-134',\n",
              " 'Te-129',\n",
              " 'Te-132',\n",
              " 'Cs-137',\n",
              " 'Te-129m',\n",
              " 'I-131',\n",
              " 'I-133',\n",
              " 'I-132',\n",
              " 'Ba-140.1']"
            ]
          },
          "metadata": {
            "tags": []
          },
          "execution_count": 20
        }
      ]
    },
    {
      "cell_type": "code",
      "metadata": {
        "id": "w1lGm6ElRMRp",
        "colab_type": "code",
        "colab": {}
      },
      "source": [
        "df['Cs-134'] = df['Cs-134'].apply(lambda x: np.nan if x == \"Non-detect\" else x)\n",
        "df.loc[:, columns] = df.loc[:, columns].applymap(lambda x: np.nan if x == 'Non-detect' else x)\n",
        "df.loc[:, columns] = df.loc[:, columns].applymap(lambda x: np.nan if x == 'ND' else x)\n",
        "\n"
      ],
      "execution_count": 0,
      "outputs": []
    },
    {
      "cell_type": "code",
      "metadata": {
        "id": "sYPD58qqRMRs",
        "colab_type": "code",
        "colab": {}
      },
      "source": [
        "for col in columns:\n",
        "    df[col] = pd.to_numeric(df[col])\n"
      ],
      "execution_count": 0,
      "outputs": []
    },
    {
      "cell_type": "code",
      "metadata": {
        "id": "RPZo8FLiRMRu",
        "colab_type": "code",
        "outputId": "c237b967-cf68-48eb-bb06-a20c0b5abd54",
        "colab": {
          "base_uri": "https://localhost:8080/",
          "height": 340
        }
      },
      "source": [
        "df.dtypes"
      ],
      "execution_count": 23,
      "outputs": [
        {
          "output_type": "execute_result",
          "data": {
            "text/plain": [
              "State                     object\n",
              "Location                  object\n",
              "Date Posted       datetime64[ns]\n",
              "Date Collected    datetime64[ns]\n",
              "Sample Type               object\n",
              "Unit                      object\n",
              "Ba-140                   float64\n",
              "Co-60                    float64\n",
              "Cs-134                     int64\n",
              "Cs-136                   float64\n",
              "Cs-137                     int64\n",
              "I-131                      int64\n",
              "I-132                      int64\n",
              "I-133                    float64\n",
              "Te-129                   float64\n",
              "Te-129m                  float64\n",
              "Te-132                     int64\n",
              "Ba-140.1                 float64\n",
              "dtype: object"
            ]
          },
          "metadata": {
            "tags": []
          },
          "execution_count": 23
        }
      ]
    },
    {
      "cell_type": "code",
      "metadata": {
        "id": "-e_cDJkORMRy",
        "colab_type": "code",
        "colab": {}
      },
      "source": [
        "df['State'] = df['State'].astype('category')\n",
        "df['Location'] = df['Location'].astype('category')\n",
        "df['Unit'] = df['Unit'].astype('category')\n",
        "df['Sample Type'] = df['Sample Type'].astype('category')\n"
      ],
      "execution_count": 0,
      "outputs": []
    },
    {
      "cell_type": "code",
      "metadata": {
        "id": "gkYp3ToRRMR0",
        "colab_type": "code",
        "outputId": "3ef15ffc-c923-4178-d150-012fced15f8f",
        "colab": {
          "base_uri": "https://localhost:8080/",
          "height": 340
        }
      },
      "source": [
        "df.dtypes"
      ],
      "execution_count": 25,
      "outputs": [
        {
          "output_type": "execute_result",
          "data": {
            "text/plain": [
              "State                   category\n",
              "Location                category\n",
              "Date Posted       datetime64[ns]\n",
              "Date Collected    datetime64[ns]\n",
              "Sample Type             category\n",
              "Unit                    category\n",
              "Ba-140                   float64\n",
              "Co-60                    float64\n",
              "Cs-134                     int64\n",
              "Cs-136                   float64\n",
              "Cs-137                     int64\n",
              "I-131                      int64\n",
              "I-132                      int64\n",
              "I-133                    float64\n",
              "Te-129                   float64\n",
              "Te-129m                  float64\n",
              "Te-132                     int64\n",
              "Ba-140.1                 float64\n",
              "dtype: object"
            ]
          },
          "metadata": {
            "tags": []
          },
          "execution_count": 25
        }
      ]
    },
    {
      "cell_type": "markdown",
      "metadata": {
        "id": "91Hnzen5RMR3",
        "colab_type": "text"
      },
      "source": [
        "## Exercise 7: Exporting Data in Different Formats"
      ]
    },
    {
      "cell_type": "code",
      "metadata": {
        "id": "0KmhK0E5RMR3",
        "colab_type": "code",
        "colab": {}
      },
      "source": [
        "import numpy as np\n",
        "import pandas as pd\n",
        "\n",
        "url = \"https://raw.githubusercontent.com/TrainingByPackt/Big-Data-Analysis-with-Python/master/Lesson01/RadNet_Laboratory_Analysis.csv\"\n",
        "df = pd.read_csv(url)\n"
      ],
      "execution_count": 0,
      "outputs": []
    },
    {
      "cell_type": "code",
      "metadata": {
        "id": "vaeEhPCqRMR5",
        "colab_type": "code",
        "outputId": "63d1979a-6640-431a-ad8c-228dbf34a28f",
        "colab": {
          "base_uri": "https://localhost:8080/",
          "height": 221
        }
      },
      "source": [
        "columns = df.columns\n",
        "id_cols = ['State', 'Location', \"Date Posted\", 'Date Collected', 'Sample Type', 'Unit']\n",
        "columns = list(set(columns) - set(id_cols))\n",
        "columns\n"
      ],
      "execution_count": 27,
      "outputs": [
        {
          "output_type": "execute_result",
          "data": {
            "text/plain": [
              "['Cs-136',\n",
              " 'Ba-140',\n",
              " 'Co-60',\n",
              " 'Cs-134',\n",
              " 'Te-129',\n",
              " 'Te-132',\n",
              " 'Cs-137',\n",
              " 'Te-129m',\n",
              " 'I-131',\n",
              " 'I-133',\n",
              " 'I-132',\n",
              " 'Ba-140.1']"
            ]
          },
          "metadata": {
            "tags": []
          },
          "execution_count": 27
        }
      ]
    },
    {
      "cell_type": "code",
      "metadata": {
        "id": "kH7ZErfdRMR8",
        "colab_type": "code",
        "colab": {}
      },
      "source": [
        "df['Cs-134'] = df['Cs-134'].apply(lambda x: np.nan if x == \"Non-detect\" else x)\n",
        "df.loc[:, columns] = df.loc[:, columns].applymap(lambda x: np.nan if x == 'Non-detect' else x)\n",
        "df.loc[:, columns] = df.loc[:, columns].applymap(lambda x: np.nan if x == 'ND' else x)\n"
      ],
      "execution_count": 0,
      "outputs": []
    },
    {
      "cell_type": "code",
      "metadata": {
        "id": "TsbCqXxkRMR-",
        "colab_type": "code",
        "colab": {}
      },
      "source": [
        "df.loc[:, ['State', 'Location', 'Sample Type', 'Unit']] = df.loc[:, ['State', 'Location', 'Sample Type', 'Unit']].applymap(lambda x: x.strip())"
      ],
      "execution_count": 0,
      "outputs": []
    },
    {
      "cell_type": "code",
      "metadata": {
        "id": "lXIbJcdHRMSA",
        "colab_type": "code",
        "colab": {}
      },
      "source": [
        "df['Date Posted'] = pd.to_datetime(df['Date Posted'])\n",
        "df['Date Collected'] = pd.to_datetime(df['Date Collected'])\n"
      ],
      "execution_count": 0,
      "outputs": []
    },
    {
      "cell_type": "code",
      "metadata": {
        "id": "JC6LoR3cRMSD",
        "colab_type": "code",
        "colab": {}
      },
      "source": [
        "for col in columns:\n",
        "    df[col] = pd.to_numeric(df[col])\n"
      ],
      "execution_count": 0,
      "outputs": []
    },
    {
      "cell_type": "code",
      "metadata": {
        "id": "H96VH2tgRMSF",
        "colab_type": "code",
        "colab": {}
      },
      "source": [
        "df['State'] = df['State'].astype('category')\n",
        "df['Location'] = df['Location'].astype('category')\n",
        "df['Unit'] = df['Unit'].astype('category')\n",
        "df['Sample Type'] = df['Sample Type'].astype('category')\n"
      ],
      "execution_count": 0,
      "outputs": []
    },
    {
      "cell_type": "code",
      "metadata": {
        "id": "sWIh6zJyRMSJ",
        "colab_type": "code",
        "colab": {}
      },
      "source": [
        "df.to_csv('radiation_clean.csv', index=False, sep=';', encoding='utf-8')"
      ],
      "execution_count": 0,
      "outputs": []
    },
    {
      "cell_type": "code",
      "metadata": {
        "id": "gX586ohNRMSM",
        "colab_type": "code",
        "colab": {}
      },
      "source": [
        "df.to_parquet('radiation_clean.prq', index=False)"
      ],
      "execution_count": 0,
      "outputs": []
    },
    {
      "cell_type": "code",
      "metadata": {
        "id": "nwI0JUU0RMSP",
        "colab_type": "code",
        "colab": {}
      },
      "source": [
        ""
      ],
      "execution_count": 0,
      "outputs": []
    }
  ]
}