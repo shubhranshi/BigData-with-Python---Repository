{
  "nbformat": 4,
  "nbformat_minor": 0,
  "metadata": {
    "colab": {
      "name": "Activity 2.ipynb",
      "version": "0.3.2",
      "provenance": []
    },
    "language_info": {
      "codemirror_mode": {
        "name": "ipython",
        "version": 3
      },
      "file_extension": ".py",
      "mimetype": "text/x-python",
      "name": "python",
      "nbconvert_exporter": "python",
      "pygments_lexer": "ipython3",
      "version": "3.7.0"
    },
    "kernelspec": {
      "display_name": "Python 3",
      "language": "python",
      "name": "python3"
    }
  },
  "cells": [
    {
      "cell_type": "code",
      "metadata": {
        "id": "1Jm252gylWT8",
        "colab_type": "code",
        "colab": {}
      },
      "source": [
        "import pandas as pd\n",
        "import numpy as np\n"
      ],
      "execution_count": 0,
      "outputs": []
    },
    {
      "cell_type": "code",
      "metadata": {
        "id": "6Z_gSGtElWT_",
        "colab_type": "code",
        "colab": {}
      },
      "source": [
        "url = \"https://raw.githubusercontent.com/TrainingByPackt/Big-Data-Analysis-with-Python/master/Lesson01/RadNet_Laboratory_Analysis.csv\"\n",
        "df = pd.read_csv(url)\n"
      ],
      "execution_count": 0,
      "outputs": []
    },
    {
      "cell_type": "code",
      "metadata": {
        "id": "-EkjVY6zlWUB",
        "colab_type": "code",
        "outputId": "095d4084-6468-41ee-c2b6-8f9963e84912",
        "colab": {
          "base_uri": "https://localhost:8080/",
          "height": 221
        }
      },
      "source": [
        "columns = df.columns\n",
        "id_cols = ['State', 'Location', \"Date Posted\", 'Date Collected', 'Sample Type', 'Unit']\n",
        "columns = list(set(columns) - set(id_cols))\n",
        "columns\n"
      ],
      "execution_count": 0,
      "outputs": [
        {
          "output_type": "execute_result",
          "data": {
            "text/plain": [
              "['Cs-136',\n",
              " 'I-133',\n",
              " 'I-132',\n",
              " 'Ba-140.1',\n",
              " 'Te-129',\n",
              " 'Te-132',\n",
              " 'Ba-140',\n",
              " 'Cs-134',\n",
              " 'Co-60',\n",
              " 'Cs-137',\n",
              " 'I-131',\n",
              " 'Te-129m']"
            ]
          },
          "metadata": {
            "tags": []
          },
          "execution_count": 3
        }
      ]
    },
    {
      "cell_type": "code",
      "metadata": {
        "id": "31lvRfLslWUF",
        "colab_type": "code",
        "outputId": "9da0381f-edf2-4a3a-a4b4-95179cb81f42",
        "colab": {
          "base_uri": "https://localhost:8080/",
          "height": 204
        }
      },
      "source": [
        "df['Cs-134'] = df['Cs-134'].apply(lambda x: np.nan if x == \"Non-detect\" else x)\n",
        "df.head()\n"
      ],
      "execution_count": 0,
      "outputs": [
        {
          "output_type": "execute_result",
          "data": {
            "text/html": [
              "<div>\n",
              "<style scoped>\n",
              "    .dataframe tbody tr th:only-of-type {\n",
              "        vertical-align: middle;\n",
              "    }\n",
              "\n",
              "    .dataframe tbody tr th {\n",
              "        vertical-align: top;\n",
              "    }\n",
              "\n",
              "    .dataframe thead th {\n",
              "        text-align: right;\n",
              "    }\n",
              "</style>\n",
              "<table border=\"1\" class=\"dataframe\">\n",
              "  <thead>\n",
              "    <tr style=\"text-align: right;\">\n",
              "      <th></th>\n",
              "      <th>State</th>\n",
              "      <th>Location</th>\n",
              "      <th>Date Posted</th>\n",
              "      <th>Date Collected</th>\n",
              "      <th>Sample Type</th>\n",
              "      <th>Unit</th>\n",
              "      <th>Ba-140</th>\n",
              "      <th>Co-60</th>\n",
              "      <th>Cs-134</th>\n",
              "      <th>Cs-136</th>\n",
              "      <th>Cs-137</th>\n",
              "      <th>I-131</th>\n",
              "      <th>I-132</th>\n",
              "      <th>I-133</th>\n",
              "      <th>Te-129</th>\n",
              "      <th>Te-129m</th>\n",
              "      <th>Te-132</th>\n",
              "      <th>Ba-140.1</th>\n",
              "    </tr>\n",
              "  </thead>\n",
              "  <tbody>\n",
              "    <tr>\n",
              "      <th>0</th>\n",
              "      <td>ID</td>\n",
              "      <td>Boise</td>\n",
              "      <td>03/30/2011</td>\n",
              "      <td>03/23/2011</td>\n",
              "      <td>Air Filter</td>\n",
              "      <td>pCi/m3</td>\n",
              "      <td>0.0</td>\n",
              "      <td>0.0</td>\n",
              "      <td>0</td>\n",
              "      <td>NaN</td>\n",
              "      <td>0</td>\n",
              "      <td>0</td>\n",
              "      <td>0</td>\n",
              "      <td>0.0</td>\n",
              "      <td>NaN</td>\n",
              "      <td>NaN</td>\n",
              "      <td>0</td>\n",
              "      <td>NaN</td>\n",
              "    </tr>\n",
              "    <tr>\n",
              "      <th>1</th>\n",
              "      <td>ID</td>\n",
              "      <td>Boise</td>\n",
              "      <td>03/30/2011</td>\n",
              "      <td>03/23/2011</td>\n",
              "      <td>Air Filter</td>\n",
              "      <td>pCi/m3</td>\n",
              "      <td>0.0</td>\n",
              "      <td>0.0</td>\n",
              "      <td>0</td>\n",
              "      <td>NaN</td>\n",
              "      <td>0</td>\n",
              "      <td>0</td>\n",
              "      <td>0</td>\n",
              "      <td>0.0</td>\n",
              "      <td>NaN</td>\n",
              "      <td>NaN</td>\n",
              "      <td>0</td>\n",
              "      <td>NaN</td>\n",
              "    </tr>\n",
              "    <tr>\n",
              "      <th>2</th>\n",
              "      <td>AK</td>\n",
              "      <td>Juneau</td>\n",
              "      <td>03/30/2011</td>\n",
              "      <td>03/23/2011</td>\n",
              "      <td>Air Filter</td>\n",
              "      <td>pCi/m3</td>\n",
              "      <td>0.0</td>\n",
              "      <td>0.0</td>\n",
              "      <td>0</td>\n",
              "      <td>NaN</td>\n",
              "      <td>0</td>\n",
              "      <td>0</td>\n",
              "      <td>0</td>\n",
              "      <td>0.0</td>\n",
              "      <td>NaN</td>\n",
              "      <td>NaN</td>\n",
              "      <td>0</td>\n",
              "      <td>NaN</td>\n",
              "    </tr>\n",
              "    <tr>\n",
              "      <th>3</th>\n",
              "      <td>AK</td>\n",
              "      <td>Nome</td>\n",
              "      <td>03/30/2011</td>\n",
              "      <td>03/22/2011</td>\n",
              "      <td>Air Filter</td>\n",
              "      <td>pCi/m3</td>\n",
              "      <td>0.0</td>\n",
              "      <td>0.0</td>\n",
              "      <td>0</td>\n",
              "      <td>NaN</td>\n",
              "      <td>0</td>\n",
              "      <td>0</td>\n",
              "      <td>0</td>\n",
              "      <td>0.0</td>\n",
              "      <td>NaN</td>\n",
              "      <td>NaN</td>\n",
              "      <td>0</td>\n",
              "      <td>NaN</td>\n",
              "    </tr>\n",
              "    <tr>\n",
              "      <th>4</th>\n",
              "      <td>AK</td>\n",
              "      <td>Nome</td>\n",
              "      <td>03/30/2011</td>\n",
              "      <td>03/23/2011</td>\n",
              "      <td>Air Filter</td>\n",
              "      <td>pCi/m3</td>\n",
              "      <td>0.0</td>\n",
              "      <td>0.0</td>\n",
              "      <td>0</td>\n",
              "      <td>NaN</td>\n",
              "      <td>0</td>\n",
              "      <td>0</td>\n",
              "      <td>0</td>\n",
              "      <td>0.0</td>\n",
              "      <td>NaN</td>\n",
              "      <td>NaN</td>\n",
              "      <td>0</td>\n",
              "      <td>NaN</td>\n",
              "    </tr>\n",
              "  </tbody>\n",
              "</table>\n",
              "</div>"
            ],
            "text/plain": [
              "  State Location Date Posted Date Collected Sample Type    Unit  Ba-140  \\\n",
              "0    ID    Boise  03/30/2011     03/23/2011  Air Filter  pCi/m3     0.0   \n",
              "1    ID    Boise  03/30/2011     03/23/2011  Air Filter  pCi/m3     0.0   \n",
              "2    AK   Juneau  03/30/2011     03/23/2011  Air Filter  pCi/m3     0.0   \n",
              "3    AK     Nome  03/30/2011     03/22/2011  Air Filter  pCi/m3     0.0   \n",
              "4    AK     Nome  03/30/2011     03/23/2011  Air Filter  pCi/m3     0.0   \n",
              "\n",
              "   Co-60  Cs-134  Cs-136  Cs-137  I-131  I-132  I-133  Te-129  Te-129m  \\\n",
              "0    0.0       0     NaN       0      0      0    0.0     NaN      NaN   \n",
              "1    0.0       0     NaN       0      0      0    0.0     NaN      NaN   \n",
              "2    0.0       0     NaN       0      0      0    0.0     NaN      NaN   \n",
              "3    0.0       0     NaN       0      0      0    0.0     NaN      NaN   \n",
              "4    0.0       0     NaN       0      0      0    0.0     NaN      NaN   \n",
              "\n",
              "   Te-132  Ba-140.1  \n",
              "0       0       NaN  \n",
              "1       0       NaN  \n",
              "2       0       NaN  \n",
              "3       0       NaN  \n",
              "4       0       NaN  "
            ]
          },
          "metadata": {
            "tags": []
          },
          "execution_count": 4
        }
      ]
    },
    {
      "cell_type": "code",
      "metadata": {
        "id": "zA9mngwulWUK",
        "colab_type": "code",
        "colab": {}
      },
      "source": [
        "df.loc[:, columns] = df.loc[:, columns].applymap(lambda x: np.nan if x == 'Non-detect' else x)\n",
        "df.loc[:, columns] = df.loc[:, columns].applymap(lambda x: np.nan if x == 'ND' else x)\n"
      ],
      "execution_count": 0,
      "outputs": []
    },
    {
      "cell_type": "code",
      "metadata": {
        "id": "l4LScBBIlWUM",
        "colab_type": "code",
        "colab": {}
      },
      "source": [
        "df.loc[:, ['State', 'Location', 'Sample Type', 'Unit']] = df.loc[:, ['State', 'Location', 'Sample Type', 'Unit']].applymap(lambda x: x.strip())"
      ],
      "execution_count": 0,
      "outputs": []
    },
    {
      "cell_type": "code",
      "metadata": {
        "id": "H9voUJD_lWUO",
        "colab_type": "code",
        "outputId": "f5c55d60-c317-4c45-fda5-017bc86d2f4c",
        "colab": {
          "base_uri": "https://localhost:8080/",
          "height": 340
        }
      },
      "source": [
        "df.dtypes"
      ],
      "execution_count": 0,
      "outputs": [
        {
          "output_type": "execute_result",
          "data": {
            "text/plain": [
              "State              object\n",
              "Location           object\n",
              "Date Posted        object\n",
              "Date Collected     object\n",
              "Sample Type        object\n",
              "Unit               object\n",
              "Ba-140            float64\n",
              "Co-60             float64\n",
              "Cs-134              int64\n",
              "Cs-136            float64\n",
              "Cs-137              int64\n",
              "I-131               int64\n",
              "I-132               int64\n",
              "I-133             float64\n",
              "Te-129            float64\n",
              "Te-129m           float64\n",
              "Te-132              int64\n",
              "Ba-140.1          float64\n",
              "dtype: object"
            ]
          },
          "metadata": {
            "tags": []
          },
          "execution_count": 7
        }
      ]
    },
    {
      "cell_type": "code",
      "metadata": {
        "id": "5kTABCqulWUR",
        "colab_type": "code",
        "outputId": "c500ab13-eff0-4905-858e-2c73b5279e73",
        "colab": {
          "base_uri": "https://localhost:8080/",
          "height": 340
        }
      },
      "source": [
        "df['Date Posted'] = pd.to_datetime(df['Date Posted'])\n",
        "df['Date Collected'] = pd.to_datetime(df['Date Collected'])\n",
        "for col in columns:\n",
        "    df[col] = pd.to_numeric(df[col])\n",
        "df.dtypes\n"
      ],
      "execution_count": 0,
      "outputs": [
        {
          "output_type": "execute_result",
          "data": {
            "text/plain": [
              "State                     object\n",
              "Location                  object\n",
              "Date Posted       datetime64[ns]\n",
              "Date Collected    datetime64[ns]\n",
              "Sample Type               object\n",
              "Unit                      object\n",
              "Ba-140                   float64\n",
              "Co-60                    float64\n",
              "Cs-134                     int64\n",
              "Cs-136                   float64\n",
              "Cs-137                     int64\n",
              "I-131                      int64\n",
              "I-132                      int64\n",
              "I-133                    float64\n",
              "Te-129                   float64\n",
              "Te-129m                  float64\n",
              "Te-132                     int64\n",
              "Ba-140.1                 float64\n",
              "dtype: object"
            ]
          },
          "metadata": {
            "tags": []
          },
          "execution_count": 8
        }
      ]
    },
    {
      "cell_type": "code",
      "metadata": {
        "id": "ORZDSc00lWUT",
        "colab_type": "code",
        "outputId": "ff6d4f52-1804-4b12-f175-300abfb4133a",
        "colab": {
          "base_uri": "https://localhost:8080/",
          "height": 340
        }
      },
      "source": [
        "df['Date Posted'] = pd.to_datetime(df['Date Posted'])\n",
        "df['Date Collected'] = pd.to_datetime(df['Date Collected'])\n",
        "for col in columns:\n",
        "    df[col] = pd.to_numeric(df[col])\n",
        "df.dtypes\n"
      ],
      "execution_count": 0,
      "outputs": [
        {
          "output_type": "execute_result",
          "data": {
            "text/plain": [
              "State                     object\n",
              "Location                  object\n",
              "Date Posted       datetime64[ns]\n",
              "Date Collected    datetime64[ns]\n",
              "Sample Type               object\n",
              "Unit                      object\n",
              "Ba-140                   float64\n",
              "Co-60                    float64\n",
              "Cs-134                     int64\n",
              "Cs-136                   float64\n",
              "Cs-137                     int64\n",
              "I-131                      int64\n",
              "I-132                      int64\n",
              "I-133                    float64\n",
              "Te-129                   float64\n",
              "Te-129m                  float64\n",
              "Te-132                     int64\n",
              "Ba-140.1                 float64\n",
              "dtype: object"
            ]
          },
          "metadata": {
            "tags": []
          },
          "execution_count": 9
        }
      ]
    },
    {
      "cell_type": "code",
      "metadata": {
        "id": "__NharA0lWUX",
        "colab_type": "code",
        "colab": {}
      },
      "source": [
        ""
      ],
      "execution_count": 0,
      "outputs": []
    }
  ]
}