{
  "nbformat": 4,
  "nbformat_minor": 0,
  "metadata": {
    "colab": {
      "name": "Activity03.ipynb",
      "version": "0.3.2",
      "provenance": []
    },
    "language_info": {
      "codemirror_mode": {
        "name": "ipython",
        "version": 3
      },
      "file_extension": ".py",
      "mimetype": "text/x-python",
      "name": "python",
      "nbconvert_exporter": "python",
      "pygments_lexer": "ipython3",
      "version": "3.7.0"
    },
    "kernelspec": {
      "display_name": "Python 3",
      "language": "python",
      "name": "python3"
    }
  },
  "cells": [
    {
      "cell_type": "code",
      "metadata": {
        "id": "1_RoO-_ymnIp",
        "colab_type": "code",
        "colab": {}
      },
      "source": [
        "import numpy as np\n",
        "import pandas as pd\n",
        "\n",
        "url = \"https://raw.githubusercontent.com/TrainingByPackt/Big-Data-Analysis-with-Python/master/Lesson01/RadNet_Laboratory_Analysis.csv\"\n",
        "df = pd.read_csv(url)\n"
      ],
      "execution_count": 0,
      "outputs": []
    },
    {
      "cell_type": "code",
      "metadata": {
        "id": "ejUXvM_5mnIt",
        "colab_type": "code",
        "outputId": "18e32117-4ead-4acf-de3e-9d658bf6ff68",
        "colab": {
          "base_uri": "https://localhost:8080/",
          "height": 221
        }
      },
      "source": [
        "columns = df.columns\n",
        "id_cols = ['State', 'Location', \"Date Posted\", 'Date Collected', 'Sample Type', 'Unit']\n",
        "columns = list(set(columns) - set(id_cols))\n",
        "columns\n"
      ],
      "execution_count": 0,
      "outputs": [
        {
          "output_type": "execute_result",
          "data": {
            "text/plain": [
              "['Co-60',\n",
              " 'Te-129',\n",
              " 'Cs-136',\n",
              " 'Ba-140',\n",
              " 'Te-129m',\n",
              " 'I-132',\n",
              " 'Cs-134',\n",
              " 'Ba-140.1',\n",
              " 'I-131',\n",
              " 'Cs-137',\n",
              " 'I-133',\n",
              " 'Te-132']"
            ]
          },
          "metadata": {
            "tags": []
          },
          "execution_count": 2
        }
      ]
    },
    {
      "cell_type": "code",
      "metadata": {
        "id": "5_tZ7HnXmnIx",
        "colab_type": "code",
        "colab": {}
      },
      "source": [
        "df['Cs-134'] = df['Cs-134'].apply(lambda x: np.nan if x == \"Non-detect\" else x)\n",
        "df.loc[:, columns] = df.loc[:, columns].applymap(lambda x: np.nan if x == 'Non-detect' else x)\n",
        "df.loc[:, columns] = df.loc[:, columns].applymap(lambda x: np.nan if x == 'ND' else x)\n"
      ],
      "execution_count": 0,
      "outputs": []
    },
    {
      "cell_type": "code",
      "metadata": {
        "id": "IIf4vXKZmnI0",
        "colab_type": "code",
        "colab": {}
      },
      "source": [
        "df.loc[:, ['State', 'Location', 'Sample Type', 'Unit']] = df.loc[:, ['State', 'Location', 'Sample Type', 'Unit']].applymap(lambda x: x.strip())"
      ],
      "execution_count": 0,
      "outputs": []
    },
    {
      "cell_type": "code",
      "metadata": {
        "id": "vRegsMYxmnI3",
        "colab_type": "code",
        "colab": {}
      },
      "source": [
        "df['Date Posted'] = pd.to_datetime(df['Date Posted'])\n",
        "df['Date Collected'] = pd.to_datetime(df['Date Collected'])\n"
      ],
      "execution_count": 0,
      "outputs": []
    },
    {
      "cell_type": "code",
      "metadata": {
        "id": "Pxvk0W8HmnI5",
        "colab_type": "code",
        "colab": {}
      },
      "source": [
        "for col in columns:\n",
        "    df[col] = pd.to_numeric(df[col])\n"
      ],
      "execution_count": 0,
      "outputs": []
    },
    {
      "cell_type": "code",
      "metadata": {
        "id": "eV110Q4rmnI7",
        "colab_type": "code",
        "colab": {}
      },
      "source": [
        "df['State'] = df['State'].astype('category')\n",
        "df['Location'] = df['Location'].astype('category')\n",
        "df['Unit'] = df['Unit'].astype('category')\n",
        "df['Sample Type'] = df['Sample Type'].astype('category')\n"
      ],
      "execution_count": 0,
      "outputs": []
    },
    {
      "cell_type": "code",
      "metadata": {
        "id": "R5x9d4g1mnI-",
        "colab_type": "code",
        "outputId": "215dc9bf-3c05-4e3b-99ac-578ef0bdf69a",
        "colab": {
          "base_uri": "https://localhost:8080/",
          "height": 299
        }
      },
      "source": [
        "df.loc[df.Location == 'San Bernardino'].plot(x='Date Collected', y='I-131')\n"
      ],
      "execution_count": 0,
      "outputs": [
        {
          "output_type": "execute_result",
          "data": {
            "text/plain": [
              "<matplotlib.axes._subplots.AxesSubplot at 0x7f73965e40b8>"
            ]
          },
          "metadata": {
            "tags": []
          },
          "execution_count": 8
        },
        {
          "output_type": "display_data",
          "data": {
            "image/png": "[encoded data removed]",
            "text/plain": [
              "<Figure size 432x288 with 1 Axes>"
            ]
          },
          "metadata": {
            "tags": []
          }
        }
      ]
    },
    {
      "cell_type": "code",
      "metadata": {
        "id": "lR1wbxjamnJC",
        "colab_type": "code",
        "outputId": "1f760d52-dc58-4473-c31e-3580aeb42204",
        "colab": {
          "base_uri": "https://localhost:8080/",
          "height": 295
        }
      },
      "source": [
        "import matplotlib.pyplot as plt\n",
        "fig, ax = plt.subplots()\n",
        "ax.scatter(x=df['I-131'], y=df['I-132'])\n",
        "_ = ax.set(\n",
        "    xlabel='I-131',\n",
        "    ylabel='I-132',\n",
        "    title='Comparison between concentrations of I-131 and I-132'\n",
        ")\n"
      ],
      "execution_count": 0,
      "outputs": [
        {
          "output_type": "display_data",
          "data": {
            "image/png": "[encoded data removed]",
            "text/plain": [
              "<Figure size 432x288 with 1 Axes>"
            ]
          },
          "metadata": {
            "tags": []
          }
        }
      ]
    },
    {
      "cell_type": "code",
      "metadata": {
        "id": "DnxGx9IbmnJG",
        "colab_type": "code",
        "colab": {}
      },
      "source": [
        ""
      ],
      "execution_count": 0,
      "outputs": []
    }
  ]
}