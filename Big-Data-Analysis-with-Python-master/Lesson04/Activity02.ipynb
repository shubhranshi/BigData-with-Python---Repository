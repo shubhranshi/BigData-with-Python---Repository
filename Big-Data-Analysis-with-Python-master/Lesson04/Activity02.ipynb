{
  "nbformat": 4,
  "nbformat_minor": 0,
  "metadata": {
    "colab": {
      "name": "Activity 2 - Diving Deeper with Spark.ipynb",
      "version": "0.3.2",
      "provenance": []
    },
    "kernelspec": {
      "display_name": "Python 3",
      "language": "python",
      "name": "python3"
    }
  },
  "cells": [
    {
      "cell_type": "markdown",
      "metadata": {
        "id": "8fQ2rPFO2AYz",
        "colab_type": "text"
      },
      "source": [
        "# Activity 2: Data Manipulation with Spark DataFrames"
      ]
    },
    {
      "cell_type": "markdown",
      "metadata": {
        "id": "-A82WXXD2AY1",
        "colab_type": "text"
      },
      "source": [
        "#### We would be using the open source mtcars dataset for this activity. However, students should feel free to use any dataset of their choice"
      ]
    },
    {
      "cell_type": "code",
      "metadata": {
        "id": "eYJ6iU3Q2Dyq",
        "colab_type": "code",
        "colab": {}
      },
      "source": [
        "!apt-get install openjdk-8-jdk-headless -qq > /dev/null\n",
        "!wget -q http://www-us.apache.org/dist/spark/spark-2.4.0/spark-2.4.0-bin-hadoop2.7.tgz\n",
        "!tar xf spark-2.4.0-bin-hadoop2.7.tgz\n",
        "!pip install -q findspark"
      ],
      "execution_count": 0,
      "outputs": []
    },
    {
      "cell_type": "code",
      "metadata": {
        "id": "8DW5GAj02k-N",
        "colab_type": "code",
        "colab": {}
      },
      "source": [
        "import os\n",
        "os.environ[\"JAVA_HOME\"] = \"/usr/lib/jvm/java-8-openjdk-amd64\"\n",
        "os.environ[\"SPARK_HOME\"] = \"/content/spark-2.4.0-bin-hadoop2.7\""
      ],
      "execution_count": 0,
      "outputs": []
    },
    {
      "cell_type": "code",
      "metadata": {
        "id": "FyA_F4Bu2AY3",
        "colab_type": "code",
        "colab": {}
      },
      "source": [
        "# Importing findspark module to connect jupyter with spark \n",
        "import findspark\n",
        "findspark.init()\n",
        "import pyspark\n",
        "import os"
      ],
      "execution_count": 0,
      "outputs": []
    },
    {
      "cell_type": "code",
      "metadata": {
        "id": "Cef_jzR-2AY-",
        "colab_type": "code",
        "colab": {}
      },
      "source": [
        "# Creating spark context & sqlcontext\n",
        "sc = pyspark.SparkContext()\n",
        "from pyspark.sql import SQLContext\n",
        "sqlc = SQLContext(sc)"
      ],
      "execution_count": 0,
      "outputs": []
    },
    {
      "cell_type": "code",
      "metadata": {
        "id": "5XdMtiZd2AZB",
        "colab_type": "code",
        "outputId": "59529395-ef92-4c9d-df25-722c5cc8ea04",
        "colab": {
          "base_uri": "https://localhost:8080/",
          "height": 187
        }
      },
      "source": [
        "# Creating a dataframe in spark\n",
        "df = sqlc.read.format('com.databricks.spark.csv').options(header='true', inferschema='true').load('https://raw.githubusercontent.com/TrainingByPackt/Big-Data-Analysis-with-Python/master/Lesson04/mtcars.csv')\n",
        "df.show(4)"
      ],
      "execution_count": 0,
      "outputs": [
        {
          "output_type": "stream",
          "text": [
            "+--------------+----+---+-----+---+----+-----+-----+---+---+----+----+\n",
            "|         model| mpg|cyl| disp| hp|drat|   wt| qsec| vs| am|gear|carb|\n",
            "+--------------+----+---+-----+---+----+-----+-----+---+---+----+----+\n",
            "|     Mazda RX4|21.0|  6|160.0|110| 3.9| 2.62|16.46|  0|  1|   4|   4|\n",
            "| Mazda RX4 Wag|21.0|  6|160.0|110| 3.9|2.875|17.02|  0|  1|   4|   4|\n",
            "|    Datsun 710|22.8|  4|108.0| 93|3.85| 2.32|18.61|  1|  1|   4|   1|\n",
            "|Hornet 4 Drive|21.4|  6|258.0|110|3.08|3.215|19.44|  1|  0|   3|   1|\n",
            "+--------------+----+---+-----+---+----+-----+-----+---+---+----+----+\n",
            "only showing top 4 rows\n",
            "\n"
          ],
          "name": "stdout"
        }
      ]
    },
    {
      "cell_type": "markdown",
      "metadata": {
        "id": "PAJcGvXb2AaT",
        "colab_type": "text"
      },
      "source": [
        "### Rename any 5 columns of dataframe"
      ]
    },
    {
      "cell_type": "code",
      "metadata": {
        "id": "xLoDthgI2AaW",
        "colab_type": "code",
        "outputId": "bc444457-4feb-42b3-bb35-c548a55bdb3d",
        "colab": {
          "base_uri": "https://localhost:8080/",
          "height": 221
        }
      },
      "source": [
        "data = df\n",
        "new_names = ['mpg_new', 'cyl_new', 'disp_new', 'hp_new', 'drat_new']\n",
        "for i,z in zip(data.columns[0:5],new_names):\n",
        "    data = data.withColumnRenamed(str(i),str(z))\n",
        "    \n",
        "data.columns"
      ],
      "execution_count": 0,
      "outputs": [
        {
          "output_type": "execute_result",
          "data": {
            "text/plain": [
              "['mpg_new',\n",
              " 'cyl_new',\n",
              " 'disp_new',\n",
              " 'hp_new',\n",
              " 'drat_new',\n",
              " 'drat',\n",
              " 'wt',\n",
              " 'qsec',\n",
              " 'vs',\n",
              " 'am',\n",
              " 'gear',\n",
              " 'carb']"
            ]
          },
          "metadata": {
            "tags": []
          },
          "execution_count": 8
        }
      ]
    },
    {
      "cell_type": "markdown",
      "metadata": {
        "id": "e5C7zUt-2Aah",
        "colab_type": "text"
      },
      "source": [
        "### select any 2 numeric and 1 categorical column from the dataframe"
      ]
    },
    {
      "cell_type": "code",
      "metadata": {
        "id": "cRsXA4tQ2Aak",
        "colab_type": "code",
        "outputId": "23609f13-860b-4c61-e6c6-27f085068817",
        "colab": {
          "base_uri": "https://localhost:8080/",
          "height": 204
        }
      },
      "source": [
        "data = df.select(['cyl','mpg','hp'])\n",
        "data.show(5)"
      ],
      "execution_count": 0,
      "outputs": [
        {
          "output_type": "stream",
          "text": [
            "+---+----+---+\n",
            "|cyl| mpg| hp|\n",
            "+---+----+---+\n",
            "|  6|21.0|110|\n",
            "|  6|21.0|110|\n",
            "|  4|22.8| 93|\n",
            "|  6|21.4|110|\n",
            "|  8|18.7|175|\n",
            "+---+----+---+\n",
            "only showing top 5 rows\n",
            "\n"
          ],
          "name": "stdout"
        }
      ]
    },
    {
      "cell_type": "markdown",
      "metadata": {
        "id": "icYSiB4u2Aat",
        "colab_type": "text"
      },
      "source": [
        "### Count the number of distinct categories in the categorical variable"
      ]
    },
    {
      "cell_type": "code",
      "metadata": {
        "id": "9DtSL0Fs2Aaw",
        "colab_type": "code",
        "outputId": "d9730c16-8703-4113-88ef-203071d82945",
        "colab": {
          "base_uri": "https://localhost:8080/",
          "height": 34
        }
      },
      "source": [
        "data.select('cyl').distinct().count()"
      ],
      "execution_count": 0,
      "outputs": [
        {
          "output_type": "execute_result",
          "data": {
            "text/plain": [
              "3"
            ]
          },
          "metadata": {
            "tags": []
          },
          "execution_count": 10
        }
      ]
    },
    {
      "cell_type": "markdown",
      "metadata": {
        "id": "j3OzS4E52Aa5",
        "colab_type": "text"
      },
      "source": [
        "### Create 2 new columns in dataframe by summing up and multiplying together the 2 numerical columns"
      ]
    },
    {
      "cell_type": "code",
      "metadata": {
        "id": "Kef_mAXe2Aa6",
        "colab_type": "code",
        "outputId": "adb8f413-3c90-493c-c779-138e00a45cd0",
        "colab": {
          "base_uri": "https://localhost:8080/",
          "height": 204
        }
      },
      "source": [
        "data = data.withColumn('colsum',(df['mpg'] + df['hp']))\n",
        "data = data.withColumn('colproduct',(df['mpg'] * df['hp']))\n",
        "data.show(5)"
      ],
      "execution_count": 0,
      "outputs": [
        {
          "output_type": "stream",
          "text": [
            "+---+----+---+------+----------+\n",
            "|cyl| mpg| hp|colsum|colproduct|\n",
            "+---+----+---+------+----------+\n",
            "|  6|21.0|110| 131.0|    2310.0|\n",
            "|  6|21.0|110| 131.0|    2310.0|\n",
            "|  4|22.8| 93| 115.8|    2120.4|\n",
            "|  6|21.4|110| 131.4|    2354.0|\n",
            "|  8|18.7|175| 193.7|    3272.5|\n",
            "+---+----+---+------+----------+\n",
            "only showing top 5 rows\n",
            "\n"
          ],
          "name": "stdout"
        }
      ]
    },
    {
      "cell_type": "markdown",
      "metadata": {
        "id": "fitYTQjL2Aa-",
        "colab_type": "text"
      },
      "source": [
        "### Drop both the original numerical columns"
      ]
    },
    {
      "cell_type": "code",
      "metadata": {
        "id": "3PgkKYFo2AbA",
        "colab_type": "code",
        "outputId": "1b3a003b-7815-4dbf-fd88-8bddafb7b501",
        "colab": {
          "base_uri": "https://localhost:8080/",
          "height": 204
        }
      },
      "source": [
        "data = data.drop('mpg','hp')\n",
        "data.show(5)"
      ],
      "execution_count": 0,
      "outputs": [
        {
          "output_type": "stream",
          "text": [
            "+---+------+----------+\n",
            "|cyl|colsum|colproduct|\n",
            "+---+------+----------+\n",
            "|  6| 131.0|    2310.0|\n",
            "|  6| 131.0|    2310.0|\n",
            "|  4| 115.8|    2120.4|\n",
            "|  6| 131.4|    2354.0|\n",
            "|  8| 193.7|    3272.5|\n",
            "+---+------+----------+\n",
            "only showing top 5 rows\n",
            "\n"
          ],
          "name": "stdout"
        }
      ]
    },
    {
      "cell_type": "markdown",
      "metadata": {
        "id": "XvvBKHJB2AbE",
        "colab_type": "text"
      },
      "source": [
        "### Sort the data by categorical column"
      ]
    },
    {
      "cell_type": "code",
      "metadata": {
        "id": "NmKmTiV82AbG",
        "colab_type": "code",
        "outputId": "157a45bb-f5d7-4016-be19-f2af4104adde",
        "colab": {
          "base_uri": "https://localhost:8080/",
          "height": 204
        }
      },
      "source": [
        "data = data.orderBy(data.cyl)\n",
        "data.show(5)"
      ],
      "execution_count": 0,
      "outputs": [
        {
          "output_type": "stream",
          "text": [
            "+---+------+----------+\n",
            "|cyl|colsum|colproduct|\n",
            "+---+------+----------+\n",
            "|  4|  98.9|    2203.5|\n",
            "|  4| 130.4|    2332.6|\n",
            "|  4| 118.5|    2085.5|\n",
            "|  4|  82.4|    1580.8|\n",
            "|  4|  93.3|    1801.8|\n",
            "+---+------+----------+\n",
            "only showing top 5 rows\n",
            "\n"
          ],
          "name": "stdout"
        }
      ]
    },
    {
      "cell_type": "markdown",
      "metadata": {
        "id": "w91-lZr92AbK",
        "colab_type": "text"
      },
      "source": [
        "### Calculate the mean of the summation column for each distinct category in the catgeorical variable"
      ]
    },
    {
      "cell_type": "code",
      "metadata": {
        "id": "cfukujag2AbM",
        "colab_type": "code",
        "outputId": "6aa19f09-d886-4452-af6e-d595c95326e2",
        "colab": {
          "base_uri": "https://localhost:8080/",
          "height": 153
        }
      },
      "source": [
        "data.groupby('cyl').agg({'colsum':'mean'}).show()"
      ],
      "execution_count": 0,
      "outputs": [
        {
          "output_type": "stream",
          "text": [
            "+---+------------------+\n",
            "|cyl|       avg(colsum)|\n",
            "+---+------------------+\n",
            "|  4|             109.3|\n",
            "|  6|142.02857142857144|\n",
            "|  8|224.31428571428575|\n",
            "+---+------------------+\n",
            "\n"
          ],
          "name": "stdout"
        }
      ]
    },
    {
      "cell_type": "markdown",
      "metadata": {
        "id": "uMXVGFrN2AbR",
        "colab_type": "text"
      },
      "source": [
        "### Filter the rows with values greater than the mean of all the mean values calculated in the previous step"
      ]
    },
    {
      "cell_type": "code",
      "metadata": {
        "id": "Efqo_8sC2AbS",
        "colab_type": "code",
        "outputId": "c3f7260f-8dfa-4741-a33a-3e1d80138b17",
        "colab": {
          "base_uri": "https://localhost:8080/",
          "height": 34
        }
      },
      "source": [
        "data.count()"
      ],
      "execution_count": 0,
      "outputs": [
        {
          "output_type": "execute_result",
          "data": {
            "text/plain": [
              "32"
            ]
          },
          "metadata": {
            "tags": []
          },
          "execution_count": 15
        }
      ]
    },
    {
      "cell_type": "code",
      "metadata": {
        "id": "j7Ufy4vK2AbY",
        "colab_type": "code",
        "outputId": "a573c30b-2fe6-4942-90fd-928b283e18ae",
        "colab": {
          "base_uri": "https://localhost:8080/",
          "height": 34
        }
      },
      "source": [
        "cyl_avg = data.groupby('cyl').agg({'colsum':'mean'})\n",
        "avg = cyl_avg.agg({'avg(colsum)':'mean'}).toPandas().iloc[0,0]\n",
        "data = data.filter(data.colsum > avg)\n",
        "data.count()"
      ],
      "execution_count": 0,
      "outputs": [
        {
          "output_type": "execute_result",
          "data": {
            "text/plain": [
              "15"
            ]
          },
          "metadata": {
            "tags": []
          },
          "execution_count": 16
        }
      ]
    },
    {
      "cell_type": "code",
      "metadata": {
        "id": "OQTzr38g2Abd",
        "colab_type": "code",
        "outputId": "edcbc104-80e1-4079-971d-31fedf0620d2",
        "colab": {
          "base_uri": "https://localhost:8080/",
          "height": 204
        }
      },
      "source": [
        "data.show(5)"
      ],
      "execution_count": 0,
      "outputs": [
        {
          "output_type": "stream",
          "text": [
            "+---+------+------------------+\n",
            "|cyl|colsum|        colproduct|\n",
            "+---+------+------------------+\n",
            "|  6| 194.7|            3447.5|\n",
            "|  8| 193.7|            3272.5|\n",
            "|  8| 196.4|2951.9999999999995|\n",
            "|  8| 259.3|            3503.5|\n",
            "|  8| 197.3|            3114.0|\n",
            "+---+------+------------------+\n",
            "only showing top 5 rows\n",
            "\n"
          ],
          "name": "stdout"
        }
      ]
    },
    {
      "cell_type": "code",
      "metadata": {
        "id": "qM76Ua-W3HxU",
        "colab_type": "code",
        "colab": {}
      },
      "source": [
        ""
      ],
      "execution_count": 0,
      "outputs": []
    },
    {
      "cell_type": "markdown",
      "metadata": {
        "id": "Quwni0d12Abh",
        "colab_type": "text"
      },
      "source": [
        "### De-duplicate the resultant dataframe to make sure it has all unique records"
      ]
    },
    {
      "cell_type": "code",
      "metadata": {
        "id": "CW_kg4Hl2Abj",
        "colab_type": "code",
        "outputId": "62498f81-9d6a-4921-a0f2-89cd2fb943dc",
        "colab": {
          "base_uri": "https://localhost:8080/",
          "height": 34
        }
      },
      "source": [
        "data = data.dropDuplicates()\n",
        "data.count()"
      ],
      "execution_count": 0,
      "outputs": [
        {
          "output_type": "execute_result",
          "data": {
            "text/plain": [
              "15"
            ]
          },
          "metadata": {
            "tags": []
          },
          "execution_count": 18
        }
      ]
    }
  ]
}